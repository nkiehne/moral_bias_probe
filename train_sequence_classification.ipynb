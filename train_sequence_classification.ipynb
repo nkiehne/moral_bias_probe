{
 "cells": [
  {
   "cell_type": "markdown",
   "id": "047f67c2-ba69-415e-be50-9655d4cf2784",
   "metadata": {},
   "source": [
    "# Prepare Experiment & Deepspeed config (**MANDATORY**)\n",
    "***"
   ]
  },
  {
   "cell_type": "code",
   "execution_count": null,
   "id": "b6f9ab32-f86e-4830-ac5f-0b9dcd9fceb6",
   "metadata": {
    "tags": [
     "parameters"
    ]
   },
   "outputs": [],
   "source": [
    "ds_config = {\n",
    "    \"fp16\": {\n",
    "        \"enabled\": \"auto\",\n",
    "        \"loss_scale\": 0,\n",
    "        \"loss_scale_window\": 1000,\n",
    "        \"initial_scale_power\": 16,\n",
    "        \"hysteresis\": 2,\n",
    "        \"min_loss_scale\": 1\n",
    "    },\n",
    "    \"optimizer\": {\n",
    "        \"type\": \"AdamW\",\n",
    "        \"params\": {\n",
    "            \"lr\": \"auto\",\n",
    "            \"betas\": \"auto\",\n",
    "            \"eps\": \"auto\",\n",
    "            \"weight_decay\": \"auto\"\n",
    "        }\n",
    "    },\n",
    "\n",
    "    \"zero_optimization\": {\n",
    "        \"stage\": 2,\n",
    "        \"allgather_partitions\": True,\n",
    "        \"allgather_bucket_size\": 5e8,\n",
    "        \"overlap_comm\": True,\n",
    "        \"reduce_scatter\": True,\n",
    "        \"reduce_bucket_size\": 5e8,\n",
    "        \"contiguous_gradients\": True,\n",
    "    },\n",
    "    \"gradient_accumulation_steps\": \"auto\",\n",
    "    \"gradient_clipping\": \"auto\",\n",
    "    \"steps_per_print\": 200,\n",
    "    \"train_batch_size\": \"auto\",\n",
    "    \"train_micro_batch_size_per_gpu\": \"auto\",\n",
    "    \"wall_clock_breakdown\": False\n",
    "}\n",
    "\n",
    "training_args = {\n",
    "    \"do_train\": False,\n",
    "    \"do_eval\": True,\n",
    "    \"do_predict\": True,\n",
    "    \"num_train_epochs\": 4,\n",
    "    \"gradient_accumulation_steps\": 1,\n",
    "    \"per_device_train_batch_size\": 64,\n",
    "    \"per_device_eval_batch_size\": 32,\n",
    "    \"fp16\": True,\n",
    "    \"weight_decay\": 0.0,\n",
    "    \"warmup_steps\": 0,\n",
    "    \"learning_rate\": 5e-5,\n",
    "    \"logging_strategy\": \"epoch\",\n",
    "    \"evaluation_strategy\": \"epoch\",\n",
    "    \"save_strategy\": \"epoch\",\n",
    "    \"save_total_limit\": 1,\n",
    "    \"load_best_model_at_end\": True,\n",
    "    \"metric_for_best_model\": \"eval_accuracy\",\n",
    "    \"greater_is_better\": True,\n",
    "}\n",
    "\n",
    "model_args = {\n",
    "}\n",
    "\n",
    "# usually overriden by external config:\n",
    "num_gpus = 1\n",
    "model_name =\"EleutherAI/gpt-neo-2.7B\"\n",
    "logdir = \"data/models/tests/\"\n",
    "override_logdir = True\n",
    "\n",
    "dataset = \"tweet-eval\"\n",
    "seed = 8197\n",
    "\n",
    "load_pretrained_weights = True\n",
    "from_checkpoint = \"data/models/sequence_classification/tweet-eval/EleutherAI/gpt-neo-2.7B/bs32_lr_5e-05/checkpoint-846\"\n",
    "deepspeed = False"
   ]
  },
  {
   "cell_type": "code",
   "execution_count": null,
   "id": "28b194b8-be8d-44e3-90dc-27f3fe4d05ce",
   "metadata": {},
   "outputs": [],
   "source": [
    "import os\n",
    "os.environ[\"TOKENIZERS_PARALLELISM\"] = \"false\"\n",
    "if not deepspeed:\n",
    "    pass\n",
    "    #os.environ[\"CUDA_VISIBLE_DEVICES\"] = \"1\"\n",
    "\n",
    "import numpy as np\n",
    "import pandas as pd\n",
    "from datasets import load_dataset\n",
    "import time\n",
    "from transformers import AutoTokenizer, AutoConfig, AutoModelForSequenceClassification\n",
    "import datasets\n",
    "from transformers import Trainer, TrainingArguments\n",
    "import fastmodellib as fml\n",
    "\n",
    "pd.set_option('display.max_colwidth', 400)"
   ]
  },
  {
   "cell_type": "code",
   "execution_count": null,
   "id": "0c3be102-901c-4946-8e8e-3411f5a47daa",
   "metadata": {},
   "outputs": [],
   "source": [
    "training_args = TrainingArguments(\n",
    "    output_dir=logdir,\n",
    "    overwrite_output_dir=override_logdir,\n",
    "    logging_dir=logdir,\n",
    "    deepspeed= logdir + \"/ds_config.json\" if deepspeed else None,\n",
    "    report_to=\"tensorboard\",\n",
    "    **training_args\n",
    ")"
   ]
  },
  {
   "cell_type": "markdown",
   "id": "6193ccdf-bc57-42e5-9b21-ade4db40bee5",
   "metadata": {},
   "source": [
    "# Tokenize the dataset\n",
    "***"
   ]
  },
  {
   "cell_type": "code",
   "execution_count": null,
   "id": "e2c709d7-c6a8-4ac4-9280-9b3066705abd",
   "metadata": {
    "tags": []
   },
   "outputs": [],
   "source": [
    "tokenizer = AutoTokenizer.from_pretrained(model_name)"
   ]
  },
  {
   "cell_type": "code",
   "execution_count": null,
   "id": "cd5b7c7d-7dd6-4b43-b117-ae993fd0ca8f",
   "metadata": {},
   "outputs": [],
   "source": [
    "from datasets import load_dataset\n",
    "\n",
    "def load_action_norm_split(path):\n",
    "    # loads the moral stories like data under path\n",
    "    train, dev, test = [pd.read_json(f\"{path}{x}.jsonl\", lines=True) for x in [\"train\", \"dev\", \"test\"]]\n",
    "\n",
    "    # construct dataframes that can actually be used\n",
    "    assign_action = lambda x: x[\"moral_action\"] if x[\"label\"] == 1 else x[\"immoral_action\"]\n",
    "    train[\"action\"] = train.apply(assign_action, axis=1)\n",
    "    dev[\"action\"] = dev.apply(assign_action, axis=1)\n",
    "    test[\"action\"] = test.apply(assign_action, axis=1)\n",
    "\n",
    "    subset = [\"norm\", \"action\", \"label\"]\n",
    "    train = train[subset]\n",
    "    dev = dev[subset]\n",
    "    test = test[subset]\n",
    "    return train, dev, test\n",
    "\n",
    "if dataset==\"moral-stories\" or dataset == \"contrastive-moral-stories\":\n",
    "    if dataset == \"moral-stories\":\n",
    "        dataset_folder = \"data/contrastive_moral_stories/original_ms/action+norm/norm_distance/\"\n",
    "    else:\n",
    "        dataset_folder = \"data/contrastive_moral_stories/anti_ms_llama/action+norm/norm_distance/\"\n",
    "\n",
    "    train, dev, test = load_action_norm_split(dataset_folder)\n",
    "\n",
    "    train, dev, test = load_action_norm_split(dataset_folder)\n",
    "\n",
    "    data = datasets.DatasetDict()\n",
    "    data[\"train\"] = datasets.Dataset.from_pandas(train)\n",
    "    data[\"dev\"] = datasets.Dataset.from_pandas(dev)\n",
    "    data[\"test\"] = datasets.Dataset.from_pandas(test)\n",
    "\n",
    "    def tokenize(samples):\n",
    "        return tokenizer(samples[\"action\"], samples[\"norm\"], truncation=True, padding=False)\n",
    "\n",
    "    tokenized_data = data.map(tokenize, batched=True, batch_size=1000).shuffle(seed=seed)\n",
    "\n",
    "elif dataset==\"tweet-eval\":\n",
    "    te = load_dataset(\"tweet_eval\", \"hate\")\n",
    "    te[\"dev\"] = te.pop(\"validation\")\n",
    "    \n",
    "    def tokenize(samples):\n",
    "        return tokenizer(samples[\"text\"], padding=False)\n",
    "\n",
    "    tokenized_data = te.map(tokenize, batched=True, batch_size=1000).shuffle(seed=seed)\n",
    "\n",
    "elif dataset==\"swag\":\n",
    "    from sklearn.model_selection import train_test_split\n",
    "\n",
    "    swag = load_dataset(\"swag\", \"regular\")\n",
    "\n",
    "    def tokenize(data):\n",
    "        data[\"original_label\"] = data[\"label\"]\n",
    "        data[\"label\"] = [int(x in {0,1}) for x in data[\"original_label\"]]\n",
    "        # if the correct answer is in the first two options, we use the sample as a positive one\n",
    "        # if not, then we use the very first option of the sample (always an incorrect option!) as a false sample\n",
    "        endings = []\n",
    "        for i in range(len(data[\"label\"])):\n",
    "            ol = data[\"original_label\"][i]\n",
    "            ending = data[f\"ending{ol}\"][i] if ol in {0,1} else data[\"ending0\"][i]\n",
    "            endings.append(ending)\n",
    "        data[\"ending\"] = endings\n",
    "        \n",
    "        return tokenizer(data[\"startphrase\"], data[\"ending\"], padding=False)\n",
    "\n",
    "    train = swag[\"train\"].to_pandas()\n",
    "    test = swag[\"validation\"].to_pandas()\n",
    "    dev, test = train_test_split(test, test_size=0.5, shuffle=False, random_state=seed)\n",
    "\n",
    "    data = datasets.DatasetDict()\n",
    "    data[\"train\"] = datasets.Dataset.from_pandas(train)\n",
    "    data[\"dev\"] = datasets.Dataset.from_pandas(dev)\n",
    "    data[\"test\"] = datasets.Dataset.from_pandas(test)\n",
    "\n",
    "    tokenized_data = data.map(tokenize, batched=True, batch_size=1000)\n",
    "\n",
    "elif dataset==\"boolq\":\n",
    "\n",
    "    boolq = load_dataset(\"boolq\").shuffle(seed=seed)\n",
    "    train = boolq[\"train\"].to_pandas()\n",
    "    dev = boolq[\"validation\"].to_pandas()\n",
    "    # split into dev and test\n",
    "    n = len(dev)//2\n",
    "    test = dev[n:]\n",
    "    dev = dev[:n]\n",
    "\n",
    "elif dataset==\"rte\":\n",
    "    from datasets import load_dataset\n",
    "else:\n",
    "    raise ValueError(f\"Unknown task '{dataset}'\")"
   ]
  },
  {
   "cell_type": "markdown",
   "id": "52a8cb7c-de02-4e36-bd84-d422d42dce04",
   "metadata": {},
   "source": [
    "# Load the model"
   ]
  },
  {
   "cell_type": "code",
   "execution_count": null,
   "id": "2f3ae477-3b48-45b7-b1a8-8ca2d2339e02",
   "metadata": {},
   "outputs": [],
   "source": [
    "model = fml.load_model(model_name=model_name, from_checkpoint=from_checkpoint, load_pretrained_weights=load_pretrained_weights,\n",
    "                       model_class=AutoModelForSequenceClassification, **model_args)"
   ]
  },
  {
   "cell_type": "code",
   "execution_count": null,
   "id": "ecd90d04-17c6-453e-9418-43da52f0e1db",
   "metadata": {},
   "outputs": [],
   "source": [
    "# set padding token if necessary\n",
    "if tokenizer.pad_token is None:\n",
    "    tokenizer.pad_token = tokenizer.eos_token\n",
    "    model.config.pad_token_id = tokenizer.pad_token_id"
   ]
  },
  {
   "cell_type": "markdown",
   "id": "cc523063-8995-46bc-bfe1-69fd8defb637",
   "metadata": {},
   "source": [
    "# Prepare Trainer\n",
    "***"
   ]
  },
  {
   "cell_type": "code",
   "execution_count": null,
   "id": "978849a5-1ba8-4833-9130-383f4a2efc98",
   "metadata": {},
   "outputs": [],
   "source": [
    "from datasets import load_metric\n",
    "metric = load_metric('accuracy')\n",
    "\n",
    "def compute_metrics(eval_pred):\n",
    "    predictions, labels = eval_pred\n",
    "    predictions = np.argmax(predictions, axis=1)\n",
    "    acc =  metric.compute(predictions=predictions, references=labels)\n",
    "    return acc"
   ]
  },
  {
   "cell_type": "code",
   "execution_count": null,
   "id": "489e8a49-d1a9-499b-9cb4-3bb4a94b5f67",
   "metadata": {},
   "outputs": [],
   "source": [
    "from transformers import DataCollatorWithPadding\n",
    "\n",
    "dc = DataCollatorWithPadding(tokenizer, padding=True, pad_to_multiple_of=8, return_tensors=\"pt\")"
   ]
  },
  {
   "cell_type": "code",
   "execution_count": null,
   "id": "d0c051ce-e7af-4001-be2e-37da8d3b4acc",
   "metadata": {},
   "outputs": [],
   "source": [
    "trainer = Trainer(\n",
    "    model=model,\n",
    "    data_collator=dc,\n",
    "    args=training_args,\n",
    "    train_dataset=tokenized_data[\"train\"] if training_args.do_train else None,\n",
    "    eval_dataset=tokenized_data[\"dev\"] if training_args.do_eval else None,\n",
    "    compute_metrics=compute_metrics\n",
    ")"
   ]
  },
  {
   "cell_type": "code",
   "execution_count": null,
   "id": "f9e31999-8117-4d12-818c-d45cbdaa4344",
   "metadata": {
    "tags": []
   },
   "outputs": [],
   "source": [
    "if training_args.do_train:\n",
    "    trainer.train()"
   ]
  },
  {
   "cell_type": "code",
   "execution_count": null,
   "id": "1cc1a662-2047-4237-b5db-a15a356c5e36",
   "metadata": {
    "tags": []
   },
   "outputs": [],
   "source": [
    "if training_args.do_predict:\n",
    "    print(\"RUNNING TESTS\")\n",
    "    for split, data in tokenized_data.items():\n",
    "        print(split)\n",
    "        r = trainer.evaluate(data, metric_key_prefix=f\"test_{split}\")\n",
    "        print(r)"
   ]
  },
  {
   "cell_type": "code",
   "execution_count": null,
   "id": "de66213c-d552-450c-aa70-15c3f2c6ccab",
   "metadata": {},
   "outputs": [],
   "source": []
  }
 ],
 "metadata": {
  "kernelspec": {
   "display_name": "env",
   "language": "python",
   "name": "env"
  },
  "language_info": {
   "codemirror_mode": {
    "name": "ipython",
    "version": 3
   },
   "file_extension": ".py",
   "mimetype": "text/x-python",
   "name": "python",
   "nbconvert_exporter": "python",
   "pygments_lexer": "ipython3",
   "version": "3.9.16"
  },
  "toc-autonumbering": true
 },
 "nbformat": 4,
 "nbformat_minor": 5
}
