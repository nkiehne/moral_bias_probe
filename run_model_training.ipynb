{
 "cells": [
  {
   "cell_type": "code",
   "execution_count": 1235,
   "id": "21c6f0c5-87ec-4ab5-9e27-8fdd78396940",
   "metadata": {},
   "outputs": [],
   "source": [
    "max_batch_sizes = {\n",
    "    \"EleutherAI/gpt-neo-1.3B\": 32,\n",
    "    \"EleutherAI/gpt-neo-2.7B\": 16,\n",
    "    \"EleutherAI/gpt-j-6B\": 8,\n",
    "    \"albert-xxlarge-v2\": 32,\n",
    "    \"facebook/opt-6.7b\": 16,\n",
    "    \"xlm-roberta-large\": 32,\n",
    "    # conservative:\n",
    "    \"gpt2\": 64,\n",
    "    \"gpt2-large\": 16,\n",
    "    \"gpt2-xl\": 8,\n",
    "    \"llama7B\": 1,\n",
    "}\n",
    "\n",
    "max_gpus = 9\n",
    "default_batch_size = 128\n",
    "\n",
    "get_batch_size = lambda x: max_batch_sizes.get(x, default_batch_size)"
   ]
  },
  {
   "cell_type": "code",
   "execution_count": 1236,
   "id": "f47c74d0-b504-410b-af48-9c04643707a0",
   "metadata": {},
   "outputs": [
    {
     "name": "stdout",
     "output_type": "stream",
     "text": [
      "pending 0\n",
      "tasks 0\n",
      "finished 0\n"
     ]
    }
   ],
   "source": [
    "import os\n",
    "\n",
    "import pandas as pd\n",
    "import matplotlib.pyplot as plt\n",
    "import seaborn as sb\n",
    "import numpy as np\n",
    "\n",
    "import fastmodellib as fml\n",
    "from fastmodellib.log_utils import load_logs_from_dir, agg_logs, get_experiment_duration\n",
    "from fastmodellib.deploy import ModelDeployer, ModelTask, DeepSpeedTask, PythonTask\n",
    "from fastmodellib.deploy import get_device_placement, make_param_grid\n",
    "\n",
    "sb.set_theme(context=\"talk\", style=\"ticks\")\n",
    "sb.set_palette(\"deep\")\n",
    "\n",
    "max_gpus = 9\n",
    "\n",
    "deployer = ModelDeployer()\n",
    "deployer.status()"
   ]
  },
  {
   "cell_type": "code",
   "execution_count": 1244,
   "id": "8e3a0650-44f2-4757-9c39-44466890ec64",
   "metadata": {},
   "outputs": [
    {
     "name": "stdout",
     "output_type": "stream",
     "text": [
      "Loaded 9 prompt tasks\n",
      "Loaded 63 topic prompt tasks\n"
     ]
    }
   ],
   "source": [
    "mask_models = [\"distilbert-base-uncased\", \n",
    "               \"bert-base-uncased\", \"bert-large-uncased\", \"bert-base-multilingual-uncased\",\n",
    "               \"distilroberta-base\", \n",
    "               \"roberta-base\", \"roberta-large\", \n",
    "               \"xlm-roberta-base\", \"xlm-roberta-large\", \n",
    "               \"albert-xxlarge-v2\",\n",
    "]\n",
    "causal_models = [\"gpt2\", \"gpt2-large\", \"gpt2-xl\", \"llama7B\", \"EleutherAI/gpt-neo-2.7B\"]\n",
    "\n",
    "\n",
    "# definitions\n",
    "\n",
    "datasets = [\"moral-stories\", \"contrastive-moral-stories\", \"tweet-eval\", \"swag\"]\n",
    "prompt_dir = \"data/prompts/\"\n",
    "\n",
    "masked_train_notebook = \"train_masked_classification.ipynb\"\n",
    "masked_prompt_notebook = \"prompt_mask_lms.ipynb\"\n",
    "\n",
    "causal_train_notebook = \"train_causal_classification.ipynb\"\n",
    "causal_prompt_notebook = \"prompt_causal_lms.ipynb\"\n",
    "\n",
    "seq_class_train_notebook = \"train_sequence_classification.ipynb\"\n",
    "\n",
    "\n",
    "\n",
    "# load prompts...\n",
    "prompt_dir = \"data/prompts/\"\n",
    "prompt_files = [x for x in os.listdir(prompt_dir) if x.startswith(\"prompt\") and x.endswith(\".jsonl\")]\n",
    "\n",
    "prompt_dfs = {}\n",
    "\n",
    "for pf in prompt_files:\n",
    "    d = pd.read_json(prompt_dir + pf, orient=\"records\", lines=True)\n",
    "    if len(d) < 1000: continue\n",
    "    # 1: norm has positive moral judgment, 0 negative\n",
    "    d[\"original_label\"] = (d[\"action-moral-judgment\"] > 0).astype(\"int32\")\n",
    "\n",
    "    prompt_dfs[pf.removesuffix(\".jsonl\")] = d\n",
    "\n",
    "print(f\"Loaded {len(prompt_dfs)} prompt tasks\")\n",
    "\n",
    "\n",
    "# load topic prompts:\n",
    "topic_prompt_dir = \"data/prompts/topics/\"\n",
    "topic_prompt_files = [x for x in os.listdir(topic_prompt_dir) if x.endswith(\".jsonl\")]\n",
    "\n",
    "topic_prompt_dfs = {}\n",
    "\n",
    "for pf in topic_prompt_files:\n",
    "    d = pd.read_json(topic_prompt_dir + pf, orient=\"records\", lines=True)\n",
    "    # 1: norm has positive moral judgment, 0 negative\n",
    "    d[\"original_label\"] = (d[\"action-moral-judgment\"] > 0).astype(\"int32\")\n",
    "\n",
    "    topic_prompt_dfs[pf.removesuffix(\".jsonl\")] = d\n",
    "\n",
    "print(f\"Loaded {len(topic_prompt_dfs)} topic prompt tasks\")\n",
    "\n",
    "\n",
    "# for plotting:\n",
    "\n",
    "model_order = [\n",
    "    'distilbert-base-uncased', 'bert-base-uncased', 'bert-large-uncased', \n",
    "    'distilroberta-base', 'roberta-base','roberta-large',\n",
    "    'albert-xxlarge-v2',\n",
    "    'bert-base-multilingual-uncased', 'xlm-roberta-base', 'xlm-roberta-large',\n",
    "     'gpt2', 'gpt2-large', 'gpt2-xl','EleutherAI/gpt-neo-2.7B', 'llama7B'\n",
    "]\n",
    "\n",
    "\n",
    "model_display_names = {\n",
    "    'distilbert-base-uncased': \"distilbert\",\n",
    "    'bert-base-uncased': \"bert-b.\",\n",
    "    'bert-large-uncased': \"bert-l.\",\n",
    "    'bert-base-multilingual-uncased': \"bert-b.-ml\",\n",
    "    'distilroberta-base': \"distilroberta\",\n",
    "    'roberta-base': \"roberta\",\n",
    "    'roberta-large': \"roberta-l.\",\n",
    "    'xlm-roberta-base': \"xlm-roberta\",\n",
    "    'xlm-roberta-large': \"xlm-roberta-l.\",\n",
    "    'albert-xxlarge-v2': \"albert-xxl\",\n",
    "    'gpt2': \"gpt2\",\n",
    "    'gpt2-large': \"gpt2-l.\",\n",
    "    'gpt2-xl': \"gpt2-xl\",\n",
    "    'llama7B': \"llama7B\",\n",
    "    'EleutherAI/gpt-neo-2.7B': \"gpt-neo-2.7B\"\n",
    "}\n",
    "\n",
    "model_sizes = pd.DataFrame.from_records([('distilbert-base-uncased', 66362880),\n",
    " ('distilroberta-base', 82118400),\n",
    " ('bert-base-uncased', 109482240),\n",
    " ('gpt2', 124439808),\n",
    " ('roberta-base', 124645632),\n",
    " ('bert-base-multilingual-uncased', 167356416),\n",
    " ('albert-xxlarge-v2', 222595584),\n",
    " ('xlm-roberta-base', 278043648),\n",
    " ('bert-large-uncased', 335141888),\n",
    " ('roberta-large', 355359744),\n",
    " ('xlm-roberta-large', 559890432),\n",
    " ('gpt2-large', 774030080),\n",
    " ('gpt2-xl', 1557611200),\n",
    " ('EleutherAI/gpt-neo-2.7B', 2651307520),\n",
    " ('llama7B', 6607343616)], columns=[\"model\",\"size\"])\n",
    "model_sizes = model_sizes.set_index(\"model\")\n",
    "\n",
    "model_sizes[\"dataset_size\"] = 0\n",
    "a = pd.DataFrame(index=model_sizes.index, columns=[\"size\"], dtype=\"int32\")\n",
    "a.loc[\"bert-base-uncased\"] = 16\n",
    "a.loc[\"bert-large-uncased\"] = 16\n",
    "a.loc[\"distilbert-base-uncased\"] = 16\n",
    "a.loc[\"albert-xxlarge-v2\"] = 320\n",
    "a.loc[\"roberta-base\"] = 160\n",
    "a.loc[\"roberta-large\"] = 160\n",
    "a.loc[\"distilroberta-base\"] = 40\n",
    "a.loc[\"gpt2\"] = 40\n",
    "a.loc[\"gpt2-large\"] = 40\n",
    "a.loc[\"gpt2-xl\"] = 40\n",
    "# at most 60gb based on the size of full wikipedia in 2019.\n",
    "a.loc[\"bert-base-multilingual-uncased\"] = 60\n",
    "a.loc[\"xlm-roberta-base\"] = 2500\n",
    "a.loc[\"xlm-roberta-large\"] = 2500\n",
    "a.loc[\"EleutherAI/gpt-neo-2.7B\"] = 800\n",
    "a.loc[\"llama7B\"] = 4500\n",
    "\n",
    "\n",
    "model_sizes[\"dataset_size\"] = a\n",
    "\n",
    "\n",
    "def extract_runtime(x):\n",
    "    return pd.to_timedelta(x, unit=\"s\").item()\n",
    "\n",
    "def parse_index_from_checkpoints(x):\n",
    "    # x: path like \"epochX_stepY/bsZ_lr_W\"\n",
    "    # or \"epochX_stepY\"\n",
    "    def parse_left(left):\n",
    "        epoch, step = left.split(\"_\")\n",
    "        epoch = int(epoch[5:])\n",
    "        step = int(step[4:])\n",
    "        return epoch, step\n",
    "    def parse_right(right):\n",
    "        batch_size, lr = right[2:].split(\"_lr_\")\n",
    "        batch_size = int(batch_size)\n",
    "        lr = float(lr)\n",
    "        return batch_size, lr\n",
    "    if \"/\" in x:\n",
    "        left, right = x.split(\"/\")\n",
    "        epoch, step = parse_left(left)\n",
    "        batch_size, lr = parse_right(right)\n",
    "        return {\"epoch\":epoch, \"step\":step, \"lr\":lr, \"batch_size\":batch_size}\n",
    "    else:\n",
    "        epoch, step = parse_left(x)\n",
    "        return {\"epoch\":epoch, \"step\":step}     \n",
    "    \n",
    "# helper functions\n",
    "\n",
    "def deploy_param_grid(pgrid, notebook, experiment_name, override_logdir=True, deepspeed=True, min_gpus=1):\n",
    "    '''\n",
    "    Deploys a parameter grid [(model, task, bs, lr), ..., ] on gpus using our standard setup\n",
    "    Currently only works for finetuning pretrained models.\n",
    "    '''\n",
    "    for model_name, dataset, batch_size, lr in pgrid:\n",
    "        logdir = f\"data/models/{experiment_name}/{dataset}/{model_name}/bs{batch_size}_lr_{str(lr).replace('.','_')}/\"\n",
    "        max_bs = get_batch_size(model_name)\n",
    "        device_bs, num_gpus, grad_acc = get_device_placement(batch_size, max_device_batch_size=max_bs, max_gpus=max_gpus, min_gpus=min_gpus)\n",
    "        training_args = {\n",
    "            \"num_train_epochs\": 4,\n",
    "            \"save_strategy\": \"epoch\",\n",
    "            \"per_device_train_batch_size\": device_bs,\n",
    "            \"per_device_eval_batch_size\": device_bs,\n",
    "            \"gradient_accumulation_steps\": grad_acc,\n",
    "            \"learning_rate\": lr,\n",
    "            \"do_predict\": True,\n",
    "            \"do_train\":True,\n",
    "            \"do_eval\":True,\n",
    "            \"load_best_model_at_end\": True,\n",
    "        }\n",
    "\n",
    "        deployer.enqueue(notebook=notebook, model_name = model_name, logdir=logdir, from_checkpoint=None, dataset=dataset,\n",
    "                         override_logdir=override_logdir, num_gpus=num_gpus, training_args=training_args, deepspeed=deepspeed)\n",
    "\n",
    "        \n",
    "def get_failed_runs(aggs, pgrid):\n",
    "    '''\n",
    "    Returns list of crashed and list of missing runs.\n",
    "    Determined by results given by the aggregated_logs and the pgrid.\n",
    "    Retuned lists are pgrids themselves!\n",
    "    '''\n",
    "    todos = set(pgrid)\n",
    "\n",
    "    # get the runs that crashed, i.e. have some nan value\n",
    "    nans = set(tuple(x) for x in aggs[aggs.isna().any(axis=1)][[\"model\", \"task\",\"batch_size\",\"lr\"]].values.tolist())\n",
    "    nans.intersection_update(todos)\n",
    "\n",
    "    # get all runs that werent started\n",
    "    fully_run = aggs[~aggs.isna()]\n",
    "    done = set(tuple(x) for x in fully_run[[\"model\", \"task\",\"batch_size\",\"lr\"]].values.tolist())\n",
    "    missing = todos.difference(done)\n",
    "    \n",
    "    crashed = sorted(nans, key=lambda x: x[0])\n",
    "    missing = sorted(missing, key=lambda x: x[0])\n",
    "    return crashed, missing\n",
    "\n",
    "def parse_params_from_path_with_model(x):\n",
    "    # path like: original_ms/albert-xxlarge-v2/bs64_lr_1e-05\n",
    "    # or /albert-xxlarge-v2\n",
    "    \n",
    "    if \"/\" in x:\n",
    "        task, r = x.split(\"/\", 1)\n",
    "        model, r = r.rsplit(\"/\", 1)\n",
    "        bs, lr = r[2:].split(\"_lr_\")\n",
    "        bs = int(bs)\n",
    "        lr = float(lr.replace(\"_\",\".\"))\n",
    "    else:\n",
    "        task = \"pretrained\"\n",
    "        model = x\n",
    "        bs = np.nan\n",
    "        lr = np.nan\n",
    "    return {\"task\":task, \"model\":model, \"batch_size\":bs, \"lr\":lr}\n",
    "\n",
    "def load_classification_task_logs(path):\n",
    "    '''\n",
    "    Loads all logs from a classification task.\n",
    "    It assumes that all logs are under '<path>/<model-name>/<run-name>/'\n",
    "    The different runs are aggregated per task + model.\n",
    "    First, the best epoch (in terms of accuracy on dev set) is determined for each single run\n",
    "    Next, the best run per model is determined\n",
    "    \n",
    "    returns:\n",
    "    DataFrame with nested index: (<task-name>,<model-name>)\n",
    "    '''\n",
    "    logs = load_logs_from_dir(path)\n",
    "    cols = {f\"test/{x}_loss\":\"min\" for x in [\"train\", \"dev\", \"test\"]}\n",
    "    cols.update({f\"test/{x}_accuracy\":\"min\" for x in [\"train\", \"dev\", \"test\"]})\n",
    "    aggs = agg_logs(logs, columns=cols)\n",
    "    #aggs = aggs.sort_values(\"test/test_accuracy\", ascending=False)\n",
    "    best_epoch = agg_logs(logs, {\"eval/accuracy\":\"argmax\"}) + 1\n",
    "    best_epoch.columns = [\"best_epoch\"]\n",
    "    aggs = aggs.join(best_epoch)\n",
    "    d = pd.DataFrame.from_records(aggs.index.map(parse_params_from_path_with_model), index=aggs.index)\n",
    "    aggs = aggs.join(d)\n",
    "    aggs.columns = [x.removeprefix(\"test/\") for x in aggs.columns]\n",
    "    groups = aggs.groupby([\"task\",\"model\"])\n",
    "    best_runs = groups.agg({\"dev_accuracy\":np.argmax})\n",
    "    best = groups.apply(lambda x: x.iloc[best_runs.loc[x.name][\"dev_accuracy\"]])\n",
    "    #best = best.drop([\"task\", \"model\"],axis=1)\n",
    "    return aggs, best\n",
    "\n",
    "def load_prompt_task_logs(path):\n",
    "    # similar to load_cload_classification_task_logs!\n",
    "    import llama_prompt_gen\n",
    "    logs = load_logs_from_dir(path)\n",
    "\n",
    "    aggregations = {f\"train/{x}_accuracy\": \"max\" for x in llama_prompt_gen.templates.keys()}\n",
    "    aggregations = {k:v for k,v in aggregations.items() if k in logs.columns}\n",
    "    aggs = agg_logs(logs, aggregations)\n",
    "\n",
    "    d = pd.DataFrame.from_records(aggs.index.map(parse_params_from_path_with_model), index=aggs.index)\n",
    "    aggs = aggs.join(d)\n",
    "    aggs.columns = [x.removeprefix(\"train/\").removesuffix(\"_accuracy\") for x in aggs.columns]\n",
    "    aggs = aggs.set_index(pd.MultiIndex.from_frame(aggs[[\"task\",\"model\"]]))\n",
    "    return aggs\n"
   ]
  },
  {
   "cell_type": "code",
   "execution_count": 1238,
   "id": "b9292c45-0322-48b0-88bf-8c4e1a6a9928",
   "metadata": {},
   "outputs": [],
   "source": [
    "import glob\n",
    "def load_prompt_results(results_dir=\"data/models/prompts/\"):\n",
    "    result_files = glob.glob(results_dir+\"**/prompt_results.jsonl\", recursive=True)\n",
    "\n",
    "    dfs = [pd.read_json(r, orient=\"records\", lines=True, dtype=\"float\") for r in result_files]\n",
    "\n",
    "    index = pd.MultiIndex.from_product([result_files, dfs[0].index])\n",
    "\n",
    "    a = pd.DataFrame(index=index, columns=dfs[0].columns, dtype=\"float32\")\n",
    "\n",
    "    for r, df in zip(result_files, dfs):\n",
    "        a.loc[r, df.columns] = df.values\n",
    "\n",
    "    def t(x):\n",
    "        y = x\n",
    "        x = x.removeprefix(results_dir).removesuffix(\"/prompt_results.jsonl\")\n",
    "        try:\n",
    "\n",
    "            if x.startswith(\"pretrained/\"):\n",
    "                task, model = x.split(\"/\", 1)\n",
    "\n",
    "            else:\n",
    "                _, task, x = x.split(\"/\",2)\n",
    "                model, _ = x.rsplit(\"/\",1)\n",
    "        except:\n",
    "            print(y)\n",
    "        return task, model\n",
    "\n",
    "    k = a.index.to_series().map(lambda x: t(x[0]) + (x[1],))\n",
    "    pindex = pd.MultiIndex.from_tuples(k, names=[\"task\",\"model\",\"y_pred\"])\n",
    "\n",
    "    a = a.set_index(pindex)\n",
    "    return a.sort_index()"
   ]
  },
  {
   "cell_type": "code",
   "execution_count": 1269,
   "id": "12afd33b-6599-4d83-8302-a99a2bb747b9",
   "metadata": {},
   "outputs": [
    {
     "name": "stdout",
     "output_type": "stream",
     "text": [
      "all/tweet-eval/roberta-base/checkpoint-4794\n"
     ]
    }
   ],
   "source": [
    "results_dir = \"data/models/prompts_long/\"\n",
    "x = \"data/models/prompts_long/all/tweet-eval/roberta-base/checkpoint-4794/prompt_results.jsonl\"\n",
    "y = x\n",
    "x = x.removeprefix(results_dir).removesuffix(\"/prompt_results.jsonl\")\n",
    "print(x)\n",
    "if x.startswith(\"pretrained/\"):\n",
    "    task, model = x.split(\"/\", 1)\n",
    "\n",
    "else:\n",
    "    _, task, x = x.split(\"/\",2)\n",
    "    model, _ = x.rsplit(\"/\",1)\n"
   ]
  },
  {
   "cell_type": "markdown",
   "id": "d2c67399-6ea6-4edf-a208-1177ef96c811",
   "metadata": {},
   "source": [
    "# Classification via Language Modeling\n",
    "***\n",
    "\n",
    "\n",
    "Tasks:\n",
    "* Decide on models\n",
    "    * Masked: \"distilbert-base-uncased\", \n",
    "               \"bert-base-uncased\", \"bert-large-uncased\", \"bert-base-multilingual-uncased\",\n",
    "               \"distilroberta-base\", \n",
    "               \"roberta-base\", \"roberta-large\", \n",
    "               \"xlm-roberta-base\", \"xlm-roberta-large\", \n",
    "               \"albert-xxlarge-v2\"\n",
    "    * Causal: GPT2\n",
    "* Decide on downstream benchmarks\n",
    "    * Morally charged: MS, CMS\n",
    "    * Neutral: boolQ\n",
    "* Run adaptive finetuning for masked LMs\n",
    "* Run adaptive finetuning for causal LMs\n",
    "* Run standard seq. class. finetuning for masked & causal LMs\n",
    "* Show differences between adaptive finetuning and standard seq. class for all models\n",
    "* Develop prompts to test for moral biases on masked and causal LMs\n",
    "* Test prompts on pre-trained masked and causal models\n",
    "* Test prompts on adaptively-finetuned masked and causal models\n",
    "    * Visualize results"
   ]
  },
  {
   "cell_type": "markdown",
   "id": "ff06b720-bcc9-4d9a-b6df-792506ac0b19",
   "metadata": {
    "tags": []
   },
   "source": [
    "## Standard sequence classification\n",
    "***"
   ]
  },
  {
   "cell_type": "markdown",
   "id": "b5c02aec-37dc-4b4b-a6a0-a4a90ba13dcf",
   "metadata": {},
   "source": [
    "### Run configuration"
   ]
  },
  {
   "cell_type": "code",
   "execution_count": 7,
   "id": "8fbce29c-d7bb-4b44-897b-a0bb5fb1b6dc",
   "metadata": {},
   "outputs": [],
   "source": [
    "# Todo: run swag on all models\n",
    "pgrid = make_param_grid(mask_models + causal_models, datasets, [32, 64], [1e-5, 5e-5, 1e-4])"
   ]
  },
  {
   "cell_type": "raw",
   "id": "1e822d51-cd0f-4c36-bd3b-133a911f833a",
   "metadata": {},
   "source": [
    "# Run deployment\n",
    "deploy_param_grid(pgrid, action_class_notebook, \"sequence_classification\")"
   ]
  },
  {
   "cell_type": "markdown",
   "id": "c5a9c2ef-0b23-4bc3-8d3b-5f650e24a33d",
   "metadata": {},
   "source": [
    "## Find OOM runs and reschedule\n",
    "***"
   ]
  },
  {
   "cell_type": "code",
   "execution_count": 181,
   "id": "5b65c22e-2626-40dc-b33f-15661261880c",
   "metadata": {},
   "outputs": [
    {
     "data": {
      "text/html": [
       "<div>\n",
       "<style scoped>\n",
       "    .dataframe tbody tr th:only-of-type {\n",
       "        vertical-align: middle;\n",
       "    }\n",
       "\n",
       "    .dataframe tbody tr th {\n",
       "        vertical-align: top;\n",
       "    }\n",
       "\n",
       "    .dataframe thead th {\n",
       "        text-align: right;\n",
       "    }\n",
       "</style>\n",
       "<table border=\"1\" class=\"dataframe\">\n",
       "  <thead>\n",
       "    <tr style=\"text-align: right;\">\n",
       "      <th></th>\n",
       "      <th>train_loss</th>\n",
       "      <th>dev_loss</th>\n",
       "      <th>test_loss</th>\n",
       "      <th>train_accuracy</th>\n",
       "      <th>dev_accuracy</th>\n",
       "      <th>test_accuracy</th>\n",
       "      <th>best_epoch</th>\n",
       "      <th>task</th>\n",
       "      <th>model</th>\n",
       "      <th>batch_size</th>\n",
       "      <th>lr</th>\n",
       "    </tr>\n",
       "  </thead>\n",
       "  <tbody>\n",
       "  </tbody>\n",
       "</table>\n",
       "</div>"
      ],
      "text/plain": [
       "Empty DataFrame\n",
       "Columns: [train_loss, dev_loss, test_loss, train_accuracy, dev_accuracy, test_accuracy, best_epoch, task, model, batch_size, lr]\n",
       "Index: []"
      ]
     },
     "execution_count": 181,
     "metadata": {},
     "output_type": "execute_result"
    }
   ],
   "source": [
    "\n",
    "aggs, best = load_classification_task_logs(\"data/models/masked_classification/\")\n",
    "\n",
    "#failed = aggs[aggs.index.map(lambda x: \"neo\" in x)]\n",
    "failed = aggs[aggs.isna().any(axis=1)]\n",
    "ooms = failed[~failed[\"best_epoch\"].isna()]\n",
    "ooms"
   ]
  },
  {
   "cell_type": "code",
   "execution_count": null,
   "id": "51f7dc2d-c039-458e-99e1-75e937d7df4f",
   "metadata": {
    "tags": []
   },
   "outputs": [],
   "source": [
    "for i, row in ooms.iterrows():\n",
    "    logdir = f\"data/models/masked_classification/{row.task}/{row.model}/bs{row.batch_size}_lr_{str(row.lr).replace('.','_')}/\"\n",
    "    max_bs = get_batch_size(model_name)\n",
    "    device_bs, num_gpus, grad_acc = get_device_placement(row.batch_size, max_device_batch_size=max_bs, max_gpus=1, min_gpus=1)\n",
    "    training_args = {\n",
    "        \"per_device_train_batch_size\": device_bs,\n",
    "        \"per_device_eval_batch_size\": device_bs,\n",
    "        \"gradient_accumulation_steps\": grad_acc,\n",
    "        \"do_predict\": True,\n",
    "        \"do_train\":False,\n",
    "        \"do_eval\":True,\n",
    "    }\n",
    "    ckpts = glob.glob(logdir + \"checkpoint-*\")\n",
    "\n",
    "    print(logdir, len(ckpts), int(row.best_epoch))\n",
    "    if len(ckpts) > 1:\n",
    "        raise ValueError(f\"There are more than one ckpts in dir: {logdir}\")\n",
    "    deployer.enqueue(notebook=causal_train_notebook, model_name = row.model, logdir=logdir, from_checkpoint=ckpts[0], \n",
    "                     dataset=row.task, override_logdir=False, num_gpus=num_gpus, training_args=training_args, backend=\"python\")"
   ]
  },
  {
   "cell_type": "markdown",
   "id": "3769f164-08f6-42dd-93c4-64e9278c9598",
   "metadata": {
    "tags": []
   },
   "source": [
    "### Results\n"
   ]
  },
  {
   "cell_type": "markdown",
   "id": "b101b7d8-b389-4fa3-a64b-5f7361ffd126",
   "metadata": {},
   "source": [
    "#### For appendix"
   ]
  },
  {
   "cell_type": "code",
   "execution_count": 1198,
   "id": "60f9d1de-cf91-4908-a62d-190d0f1d2bcf",
   "metadata": {
    "tags": []
   },
   "outputs": [],
   "source": [
    "aggs, best = load_classification_task_logs(\"data/models/sequence_classification/\")\n",
    "m = model_order.remove(\"llama7B\")\n",
    "best = best.loc[pd.MultiIndex.from_product([best.index.get_level_values(0).unique(), model_order], names=[\"task\",\"model\"])]\n",
    "model_order.append(\"llama7B\")\n",
    "\n",
    "formatted = best.copy()\n",
    "formatted[\"lr\"] = formatted[\"lr\"].apply(lambda x: f\"{x:.0e}\".replace(\"0\",\"\"))\n",
    "formatted = formatted.set_index(formatted.index.map(lambda x: (x[0], x[1].removesuffix(\"-uncased\"))))\n",
    "formatted[\"model\"] = formatted[\"model\"].apply(lambda x: x.removesuffix(\"-uncased\"))\n",
    "\n",
    "#formatted = formatted.loc[\"moral-stories\"]\n",
    "formatted = formatted.style\n",
    "\n",
    "\n",
    "loss_cols = [x for x in formatted.columns if \"loss\" in x]\n",
    "formatters = {x:lambda c: f\"{c:.4f}\" for x in loss_cols}\n",
    "\n",
    "acc_cols = [x for x in formatted.columns if \"accuracy\" in x]\n",
    "formatters.update({x:lambda c: \"{:,.1f}\".format(100*c) for x in acc_cols})\n",
    "\n",
    "formatters.update({\"best_epoch\":lambda x: str(int(x))})\n",
    "\n",
    "\n",
    "formatted = formatted.format(formatters)\n",
    "\n",
    "formatted = formatted.hide([\"task\",\"train_loss\",\"train_accuracy\",\"model\"], axis=1)\n",
    "#formatted.set_caption(\"Sequence classification results\")\n",
    "\n",
    "#print(formatted.to_latex())"
   ]
  },
  {
   "cell_type": "markdown",
   "id": "6532ece4-e146-491a-8193-b6f306219827",
   "metadata": {},
   "source": [
    "## Masked Language Modeling\n",
    "***"
   ]
  },
  {
   "cell_type": "markdown",
   "id": "a0cf8a4c-76a1-472c-a8c0-3c9010833f62",
   "metadata": {
    "tags": []
   },
   "source": [
    "### Run configuration"
   ]
  },
  {
   "cell_type": "code",
   "execution_count": 8,
   "id": "2d84176e-9125-44f8-a408-9e40602c1540",
   "metadata": {},
   "outputs": [],
   "source": [
    "pgrid = make_param_grid(mask_models, datasets, [32, 64], [1e-5, 5e-5, 1e-4])\n",
    "\n",
    "#deploy_param_grid(pgrid, masked_train_notebook, \"masked_classification\")"
   ]
  },
  {
   "cell_type": "markdown",
   "id": "b1e48241-9492-4a57-a12b-48c277a9cbeb",
   "metadata": {
    "tags": []
   },
   "source": [
    "### Results"
   ]
  },
  {
   "cell_type": "markdown",
   "id": "491644d5-46ac-4942-9b68-63feecb2a7a1",
   "metadata": {},
   "source": [
    "#### For appendix"
   ]
  },
  {
   "cell_type": "code",
   "execution_count": 1200,
   "id": "215c2cf5-de6d-43af-9f5e-f8ff21fd7ec0",
   "metadata": {
    "tags": []
   },
   "outputs": [],
   "source": [
    "aggs, best = load_classification_task_logs(\"data/models/masked_classification/\")\n",
    "# sort models\n",
    "best = best.loc[pd.MultiIndex.from_product([best.index.get_level_values(0).unique(), model_order], names=[\"task\",\"model\"])]\n",
    "\n",
    "formatted = best.copy()\n",
    "formatted[\"lr\"] = formatted[\"lr\"].apply(lambda x: f\"{x:.0e}\".replace(\"0\",\"\"))\n",
    "formatted = formatted.set_index(formatted.index.map(lambda x: (x[0], x[1].removesuffix(\"-uncased\"))))\n",
    "formatted[\"model\"] = formatted[\"model\"].apply(lambda x: x.removesuffix(\"-uncased\"))\n",
    "\n",
    "#formatted = formatted.loc[\"moral-stories\"]\n",
    "formatted = formatted.style\n",
    "\n",
    "loss_cols = [x for x in formatted.columns if \"loss\" in x]\n",
    "formatters = {x:lambda c: f\"{c:.4f}\" for x in loss_cols}\n",
    "\n",
    "acc_cols = [x for x in formatted.columns if \"accuracy\" in x]\n",
    "formatters.update({x:lambda c: \"{:,.1f}\".format(100*c) for x in acc_cols})\n",
    "\n",
    "formatters.update({\"best_epoch\":lambda x: str(int(x))})\n",
    "\n",
    "formatted = formatted.format(formatters)\n",
    "\n",
    "formatted = formatted.hide([\"task\",\"train_loss\",\"train_accuracy\",\"model\"], axis=1)\n",
    "#formatted.set_caption(\"Sequence classification results\")\n",
    "\n",
    "#print(formatted.to_latex())"
   ]
  },
  {
   "cell_type": "markdown",
   "id": "6b868ee4-1125-489b-9bff-7ad12ff21c3a",
   "metadata": {},
   "source": [
    "### Result comparison\n",
    "***"
   ]
  },
  {
   "cell_type": "code",
   "execution_count": 1425,
   "id": "fc498029-841c-452e-a550-157df994ead9",
   "metadata": {},
   "outputs": [],
   "source": [
    "aggs_masked, best_masked = load_classification_task_logs(\"data/models/masked_classification/\")\n",
    "aggs_seq, best_seq = load_classification_task_logs(\"data/models/sequence_classification/\")"
   ]
  },
  {
   "cell_type": "markdown",
   "id": "53b28b46-f219-4a6f-b22b-c65049d51123",
   "metadata": {},
   "source": [
    "#### For paper"
   ]
  },
  {
   "cell_type": "code",
   "execution_count": 1427,
   "id": "f88e9e4f-95fb-4749-b7dc-9e7f06dbd010",
   "metadata": {
    "tags": []
   },
   "outputs": [],
   "source": [
    "# sequence class. perf\n",
    "\n",
    "best_seq\n",
    "d = pd.DataFrame(index=best_masked.index.get_level_values(1).unique(), columns=pd.MultiIndex.from_product([datasets, [\"seq_acc\", \"diff\", \"pt_acc\"]]))\n",
    "for ds in datasets:\n",
    "    d[ds, \"seq_acc\",] = best_seq.loc[ds][\"test_accuracy\"]\n",
    "    d[ds, \"pt_acc\",] = best_masked.loc[ds][\"test_accuracy\"]\n",
    "    d[ds, \"diff\",] = best_masked.loc[ds][\"test_accuracy\"] - best_seq.loc[ds][\"test_accuracy\"]\n",
    "\n",
    "# apply order:\n",
    "d = d.loc[model_order]\n",
    "# get mean\n",
    "mean = d.mean(axis=0)\n",
    "mean.name = \"mean\"\n",
    "d = pd.concat([d, mean.to_frame().T])\n",
    "d = d.dropna()\n",
    "\n",
    "idx = pd.IndexSlice\n",
    "formatted = d.loc[:,idx[datasets,[\"pt_acc\",\"diff\"]]].style\n",
    "acc_cols = [x for x in formatted.columns if \"accuracy\" in x]\n",
    "formatters.update({x:lambda c: \"{:,.1f}\".format(100*c) for x in acc_cols})\n",
    "\n",
    "formatted = formatted.format(lambda c: \"{:,.1f}\".format(100*c))\n",
    "\n",
    "#print(formatted.to_latex())"
   ]
  },
  {
   "cell_type": "code",
   "execution_count": 1429,
   "id": "c5a8f921-fff6-46f2-add9-513a3fefbd78",
   "metadata": {},
   "outputs": [
    {
     "data": {
      "text/html": [
       "<div>\n",
       "<style scoped>\n",
       "    .dataframe tbody tr th:only-of-type {\n",
       "        vertical-align: middle;\n",
       "    }\n",
       "\n",
       "    .dataframe tbody tr th {\n",
       "        vertical-align: top;\n",
       "    }\n",
       "\n",
       "    .dataframe thead tr th {\n",
       "        text-align: left;\n",
       "    }\n",
       "</style>\n",
       "<table border=\"1\" class=\"dataframe\">\n",
       "  <thead>\n",
       "    <tr>\n",
       "      <th></th>\n",
       "      <th></th>\n",
       "      <th colspan=\"3\" halign=\"left\">moral-stories</th>\n",
       "      <th colspan=\"3\" halign=\"left\">contrastive-moral-stories</th>\n",
       "      <th colspan=\"3\" halign=\"left\">tweet-eval</th>\n",
       "      <th colspan=\"3\" halign=\"left\">swag</th>\n",
       "    </tr>\n",
       "    <tr>\n",
       "      <th></th>\n",
       "      <th></th>\n",
       "      <th>seq_acc</th>\n",
       "      <th>diff</th>\n",
       "      <th>pt_acc</th>\n",
       "      <th>seq_acc</th>\n",
       "      <th>diff</th>\n",
       "      <th>pt_acc</th>\n",
       "      <th>seq_acc</th>\n",
       "      <th>diff</th>\n",
       "      <th>pt_acc</th>\n",
       "      <th>seq_acc</th>\n",
       "      <th>diff</th>\n",
       "      <th>pt_acc</th>\n",
       "    </tr>\n",
       "  </thead>\n",
       "  <tbody>\n",
       "    <tr>\n",
       "      <th rowspan=\"3\" valign=\"top\">moral-stories</th>\n",
       "      <th>seq_acc</th>\n",
       "      <td>1.000000</td>\n",
       "      <td>0.039321</td>\n",
       "      <td>0.921429</td>\n",
       "      <td>0.970510</td>\n",
       "      <td>0.014286</td>\n",
       "      <td>0.975000</td>\n",
       "      <td>0.396429</td>\n",
       "      <td>0.560714</td>\n",
       "      <td>0.782143</td>\n",
       "      <td>0.885714</td>\n",
       "      <td>0.696429</td>\n",
       "      <td>0.939286</td>\n",
       "    </tr>\n",
       "    <tr>\n",
       "      <th>diff</th>\n",
       "      <td>0.039321</td>\n",
       "      <td>1.000000</td>\n",
       "      <td>0.355675</td>\n",
       "      <td>0.073345</td>\n",
       "      <td>0.221627</td>\n",
       "      <td>0.160858</td>\n",
       "      <td>0.130474</td>\n",
       "      <td>0.210903</td>\n",
       "      <td>0.275246</td>\n",
       "      <td>0.051832</td>\n",
       "      <td>0.141198</td>\n",
       "      <td>0.021448</td>\n",
       "    </tr>\n",
       "    <tr>\n",
       "      <th>pt_acc</th>\n",
       "      <td>0.921429</td>\n",
       "      <td>0.355675</td>\n",
       "      <td>1.000000</td>\n",
       "      <td>0.895443</td>\n",
       "      <td>0.189286</td>\n",
       "      <td>0.957143</td>\n",
       "      <td>0.378571</td>\n",
       "      <td>0.560714</td>\n",
       "      <td>0.753571</td>\n",
       "      <td>0.850000</td>\n",
       "      <td>0.739286</td>\n",
       "      <td>0.903571</td>\n",
       "    </tr>\n",
       "    <tr>\n",
       "      <th rowspan=\"3\" valign=\"top\">contrastive-moral-stories</th>\n",
       "      <th>seq_acc</th>\n",
       "      <td>0.970510</td>\n",
       "      <td>0.073345</td>\n",
       "      <td>0.895443</td>\n",
       "      <td>1.000000</td>\n",
       "      <td>-0.114388</td>\n",
       "      <td>0.949062</td>\n",
       "      <td>0.405720</td>\n",
       "      <td>0.580876</td>\n",
       "      <td>0.829312</td>\n",
       "      <td>0.870420</td>\n",
       "      <td>0.625559</td>\n",
       "      <td>0.899017</td>\n",
       "    </tr>\n",
       "    <tr>\n",
       "      <th>diff</th>\n",
       "      <td>0.014286</td>\n",
       "      <td>0.221627</td>\n",
       "      <td>0.189286</td>\n",
       "      <td>-0.114388</td>\n",
       "      <td>1.000000</td>\n",
       "      <td>0.107143</td>\n",
       "      <td>-0.203571</td>\n",
       "      <td>-0.053571</td>\n",
       "      <td>-0.192857</td>\n",
       "      <td>-0.064286</td>\n",
       "      <td>0.346429</td>\n",
       "      <td>-0.014286</td>\n",
       "    </tr>\n",
       "    <tr>\n",
       "      <th>pt_acc</th>\n",
       "      <td>0.975000</td>\n",
       "      <td>0.160858</td>\n",
       "      <td>0.957143</td>\n",
       "      <td>0.949062</td>\n",
       "      <td>0.107143</td>\n",
       "      <td>1.000000</td>\n",
       "      <td>0.371429</td>\n",
       "      <td>0.578571</td>\n",
       "      <td>0.778571</td>\n",
       "      <td>0.871429</td>\n",
       "      <td>0.678571</td>\n",
       "      <td>0.917857</td>\n",
       "    </tr>\n",
       "    <tr>\n",
       "      <th rowspan=\"3\" valign=\"top\">tweet-eval</th>\n",
       "      <th>seq_acc</th>\n",
       "      <td>0.396429</td>\n",
       "      <td>0.130474</td>\n",
       "      <td>0.378571</td>\n",
       "      <td>0.405720</td>\n",
       "      <td>-0.203571</td>\n",
       "      <td>0.371429</td>\n",
       "      <td>1.000000</td>\n",
       "      <td>-0.267857</td>\n",
       "      <td>0.335714</td>\n",
       "      <td>0.542857</td>\n",
       "      <td>-0.014286</td>\n",
       "      <td>0.478571</td>\n",
       "    </tr>\n",
       "    <tr>\n",
       "      <th>diff</th>\n",
       "      <td>0.560714</td>\n",
       "      <td>0.210903</td>\n",
       "      <td>0.560714</td>\n",
       "      <td>0.580876</td>\n",
       "      <td>-0.053571</td>\n",
       "      <td>0.578571</td>\n",
       "      <td>-0.267857</td>\n",
       "      <td>1.000000</td>\n",
       "      <td>0.789286</td>\n",
       "      <td>0.464286</td>\n",
       "      <td>0.442857</td>\n",
       "      <td>0.489286</td>\n",
       "    </tr>\n",
       "    <tr>\n",
       "      <th>pt_acc</th>\n",
       "      <td>0.782143</td>\n",
       "      <td>0.275246</td>\n",
       "      <td>0.753571</td>\n",
       "      <td>0.829312</td>\n",
       "      <td>-0.192857</td>\n",
       "      <td>0.778571</td>\n",
       "      <td>0.335714</td>\n",
       "      <td>0.789286</td>\n",
       "      <td>1.000000</td>\n",
       "      <td>0.746429</td>\n",
       "      <td>0.446429</td>\n",
       "      <td>0.732143</td>\n",
       "    </tr>\n",
       "    <tr>\n",
       "      <th rowspan=\"3\" valign=\"top\">swag</th>\n",
       "      <th>seq_acc</th>\n",
       "      <td>0.885714</td>\n",
       "      <td>0.051832</td>\n",
       "      <td>0.850000</td>\n",
       "      <td>0.870420</td>\n",
       "      <td>-0.064286</td>\n",
       "      <td>0.871429</td>\n",
       "      <td>0.542857</td>\n",
       "      <td>0.464286</td>\n",
       "      <td>0.746429</td>\n",
       "      <td>1.000000</td>\n",
       "      <td>0.417857</td>\n",
       "      <td>0.967857</td>\n",
       "    </tr>\n",
       "    <tr>\n",
       "      <th>diff</th>\n",
       "      <td>0.696429</td>\n",
       "      <td>0.141198</td>\n",
       "      <td>0.739286</td>\n",
       "      <td>0.625559</td>\n",
       "      <td>0.346429</td>\n",
       "      <td>0.678571</td>\n",
       "      <td>-0.014286</td>\n",
       "      <td>0.442857</td>\n",
       "      <td>0.446429</td>\n",
       "      <td>0.417857</td>\n",
       "      <td>1.000000</td>\n",
       "      <td>0.603571</td>\n",
       "    </tr>\n",
       "    <tr>\n",
       "      <th>pt_acc</th>\n",
       "      <td>0.939286</td>\n",
       "      <td>0.021448</td>\n",
       "      <td>0.903571</td>\n",
       "      <td>0.899017</td>\n",
       "      <td>-0.014286</td>\n",
       "      <td>0.917857</td>\n",
       "      <td>0.478571</td>\n",
       "      <td>0.489286</td>\n",
       "      <td>0.732143</td>\n",
       "      <td>0.967857</td>\n",
       "      <td>0.603571</td>\n",
       "      <td>1.000000</td>\n",
       "    </tr>\n",
       "  </tbody>\n",
       "</table>\n",
       "</div>"
      ],
      "text/plain": [
       "                                  moral-stories                      \\\n",
       "                                        seq_acc      diff    pt_acc   \n",
       "moral-stories             seq_acc      1.000000  0.039321  0.921429   \n",
       "                          diff         0.039321  1.000000  0.355675   \n",
       "                          pt_acc       0.921429  0.355675  1.000000   \n",
       "contrastive-moral-stories seq_acc      0.970510  0.073345  0.895443   \n",
       "                          diff         0.014286  0.221627  0.189286   \n",
       "                          pt_acc       0.975000  0.160858  0.957143   \n",
       "tweet-eval                seq_acc      0.396429  0.130474  0.378571   \n",
       "                          diff         0.560714  0.210903  0.560714   \n",
       "                          pt_acc       0.782143  0.275246  0.753571   \n",
       "swag                      seq_acc      0.885714  0.051832  0.850000   \n",
       "                          diff         0.696429  0.141198  0.739286   \n",
       "                          pt_acc       0.939286  0.021448  0.903571   \n",
       "\n",
       "                                  contrastive-moral-stories            \\\n",
       "                                                    seq_acc      diff   \n",
       "moral-stories             seq_acc                  0.970510  0.014286   \n",
       "                          diff                     0.073345  0.221627   \n",
       "                          pt_acc                   0.895443  0.189286   \n",
       "contrastive-moral-stories seq_acc                  1.000000 -0.114388   \n",
       "                          diff                    -0.114388  1.000000   \n",
       "                          pt_acc                   0.949062  0.107143   \n",
       "tweet-eval                seq_acc                  0.405720 -0.203571   \n",
       "                          diff                     0.580876 -0.053571   \n",
       "                          pt_acc                   0.829312 -0.192857   \n",
       "swag                      seq_acc                  0.870420 -0.064286   \n",
       "                          diff                     0.625559  0.346429   \n",
       "                          pt_acc                   0.899017 -0.014286   \n",
       "\n",
       "                                            tweet-eval                      \\\n",
       "                                     pt_acc    seq_acc      diff    pt_acc   \n",
       "moral-stories             seq_acc  0.975000   0.396429  0.560714  0.782143   \n",
       "                          diff     0.160858   0.130474  0.210903  0.275246   \n",
       "                          pt_acc   0.957143   0.378571  0.560714  0.753571   \n",
       "contrastive-moral-stories seq_acc  0.949062   0.405720  0.580876  0.829312   \n",
       "                          diff     0.107143  -0.203571 -0.053571 -0.192857   \n",
       "                          pt_acc   1.000000   0.371429  0.578571  0.778571   \n",
       "tweet-eval                seq_acc  0.371429   1.000000 -0.267857  0.335714   \n",
       "                          diff     0.578571  -0.267857  1.000000  0.789286   \n",
       "                          pt_acc   0.778571   0.335714  0.789286  1.000000   \n",
       "swag                      seq_acc  0.871429   0.542857  0.464286  0.746429   \n",
       "                          diff     0.678571  -0.014286  0.442857  0.446429   \n",
       "                          pt_acc   0.917857   0.478571  0.489286  0.732143   \n",
       "\n",
       "                                       swag                      \n",
       "                                    seq_acc      diff    pt_acc  \n",
       "moral-stories             seq_acc  0.885714  0.696429  0.939286  \n",
       "                          diff     0.051832  0.141198  0.021448  \n",
       "                          pt_acc   0.850000  0.739286  0.903571  \n",
       "contrastive-moral-stories seq_acc  0.870420  0.625559  0.899017  \n",
       "                          diff    -0.064286  0.346429 -0.014286  \n",
       "                          pt_acc   0.871429  0.678571  0.917857  \n",
       "tweet-eval                seq_acc  0.542857 -0.014286  0.478571  \n",
       "                          diff     0.464286  0.442857  0.489286  \n",
       "                          pt_acc   0.746429  0.446429  0.732143  \n",
       "swag                      seq_acc  1.000000  0.417857  0.967857  \n",
       "                          diff     0.417857  1.000000  0.603571  \n",
       "                          pt_acc   0.967857  0.603571  1.000000  "
      ]
     },
     "execution_count": 1429,
     "metadata": {},
     "output_type": "execute_result"
    }
   ],
   "source": [
    "d.corr(\"spearman\")"
   ]
  },
  {
   "cell_type": "markdown",
   "id": "0f22c7c7-312c-46c4-9ba9-c63ece62b226",
   "metadata": {},
   "source": [
    "#### For appendix\n",
    "\n",
    "Detailed results of hyper parameter search"
   ]
  },
  {
   "cell_type": "markdown",
   "id": "0c1bef3e-a90b-460e-a9c4-1404e7e66a96",
   "metadata": {},
   "source": [
    "## Causal Language Modeling\n",
    "***"
   ]
  },
  {
   "cell_type": "code",
   "execution_count": null,
   "id": "baa21d84-f03c-45f4-a765-4927b7f4b748",
   "metadata": {},
   "outputs": [],
   "source": [
    "# try llama?\n",
    "# re run ms + cms on bs 4"
   ]
  },
  {
   "cell_type": "markdown",
   "id": "9f57fd84-afff-414a-aa95-6b25a101c1cb",
   "metadata": {},
   "source": [
    "### Run configuration"
   ]
  },
  {
   "cell_type": "code",
   "execution_count": 305,
   "id": "7464e548-7059-4df2-84f3-f1b261850a1d",
   "metadata": {
    "tags": []
   },
   "outputs": [],
   "source": [
    "pgrid = make_param_grid(causal_models, datasets, [32, 64], [1e-5, 5e-5, 1e-4])\n",
    "\n",
    "#deploy_param_grid(pgrid, causal_train_notebook, \"masked_classification\")"
   ]
  },
  {
   "cell_type": "markdown",
   "id": "2b616ece-f733-4dc9-868f-73e54073467c",
   "metadata": {},
   "source": [
    "### Llama configuration"
   ]
  },
  {
   "cell_type": "code",
   "execution_count": null,
   "id": "025430b3-acbf-41dd-aea6-71ea30c08120",
   "metadata": {
    "tags": []
   },
   "outputs": [],
   "source": [
    "pgrid = make_param_grid(['EleutherAI/gpt-neo-2.7B'], datasets, [32, 64], [1e-5, 5e-5, 1e-4])\n",
    "deploy_param_grid(pgrid, causal_train_notebook, \"masked_classification\", min_gpus=2)"
   ]
  },
  {
   "cell_type": "markdown",
   "id": "6e90a9f0-41a2-4699-b797-4df16542e019",
   "metadata": {},
   "source": [
    "### Results\n"
   ]
  },
  {
   "cell_type": "code",
   "execution_count": 306,
   "id": "b60afc3d-00e9-46ac-9c36-adb8d769e627",
   "metadata": {},
   "outputs": [],
   "source": [
    "aggs, best = load_classification_task_logs(\"data/models/masked_classification/\")"
   ]
  },
  {
   "cell_type": "markdown",
   "id": "ed619695-a64f-4c3a-9b95-7adf3d4d77ee",
   "metadata": {},
   "source": [
    "## Masked prompts\n",
    "***\n"
   ]
  },
  {
   "cell_type": "markdown",
   "id": "6806c5b5-0940-48a7-ab3e-fee536d7c858",
   "metadata": {},
   "source": [
    "### Pre-trained\n",
    "***"
   ]
  },
  {
   "cell_type": "code",
   "execution_count": null,
   "id": "bbd26cef-e2d5-4f04-b197-68e7261ab321",
   "metadata": {
    "tags": []
   },
   "outputs": [],
   "source": [
    "for model_name in mask_models:\n",
    "    logdir = f\"data/models/prompts/pretrained/{model_name}/\"\n",
    "    batch_size = get_batch_size(model_name)\n",
    "    deployer.enqueue(notebook=masked_prompt_notebook, model_name = model_name, logdir=logdir, prompt_dir=prompt_dir,\n",
    "                     from_checkpoint=None, override_logdir=True, num_gpus=1, batch_size=batch_size)"
   ]
  },
  {
   "cell_type": "markdown",
   "id": "ae60c803-3619-4019-a8af-5358be002dc4",
   "metadata": {},
   "source": [
    "### After downstream task\n",
    "***"
   ]
  },
  {
   "cell_type": "code",
   "execution_count": null,
   "id": "2a4ca79f-2a73-4e7e-b376-52c1e4ae866a",
   "metadata": {},
   "outputs": [
    {
     "name": "stderr",
     "output_type": "stream",
     "text": [
      "2023-06-12 00:54:02.672683: I tensorflow/core/util/util.cc:169] oneDNN custom operations are on. You may see slightly different numerical results due to floating-point round-off errors from different computation orders. To turn them off, set the environment variable `TF_ENABLE_ONEDNN_OPTS=0`.\n"
     ]
    }
   ],
   "source": [
    "# get all the best performing model configurations\n",
    "aggs_masked, best_masked = load_classification_task_logs(\"data/models/masked_classification/\")"
   ]
  },
  {
   "cell_type": "code",
   "execution_count": null,
   "id": "d83cd35a-aa8f-41e6-a91d-64fdb09edd5e",
   "metadata": {
    "tags": []
   },
   "outputs": [],
   "source": [
    "for k, row in best_masked.iterrows():\n",
    "    if row.model not in mask_models: continue\n",
    "    rel_path = f\"/masked_classification/{row.task}/{row.model}/bs{row.batch_size}_lr_{str(float(row.lr)).replace('.','_')}/\"\n",
    "    from_checkpoint = \"data/models\" + rel_path\n",
    "    logdir = \"data/models/prompts\" + rel_path\n",
    "\n",
    "    batch_size = get_batch_size(row.model)\n",
    "    deployer.enqueue(notebook=masked_prompt_notebook, model_name = row.model, logdir=logdir, prompt_dir=prompt_dir,\n",
    "                     from_checkpoint=from_checkpoint, override_logdir=True, num_gpus=1, batch_size=batch_size, intersect_vocabs=False)"
   ]
  },
  {
   "cell_type": "code",
   "execution_count": null,
   "id": "b924051c-b685-4c3f-8293-9edae12eda69",
   "metadata": {},
   "outputs": [
    {
     "name": "stdout",
     "output_type": "stream",
     "text": [
      "cancelled, shutting down\n",
      "python terminated\n"
     ]
    }
   ],
   "source": [
    "deployer.stop_all()"
   ]
  },
  {
   "cell_type": "markdown",
   "id": "828e6418-f99e-4f98-8c1d-fabc6e5f9ba4",
   "metadata": {},
   "source": [
    "## Causal Prompts\n",
    "***"
   ]
  },
  {
   "cell_type": "markdown",
   "id": "e00d67f5-27a9-4b74-872b-e20f7d08692c",
   "metadata": {},
   "source": [
    "### Pretrained\n",
    "***"
   ]
  },
  {
   "cell_type": "code",
   "execution_count": null,
   "id": "8ea94fbc-2200-4566-9005-caf56556c242",
   "metadata": {
    "tags": []
   },
   "outputs": [],
   "source": [
    "for model_name in ['EleutherAI/gpt-neo-2.7B']:\n",
    "    logdir = f\"data/models/prompts/pretrained/{model_name}/\"\n",
    "    batch_size = get_batch_size(model_name)\n",
    "    # for some weird reason its very cheap to increase bs during inference..\n",
    "    if \"llama\" in model_name:\n",
    "        batch_size = 8\n",
    "    deployer.enqueue(notebook=causal_prompt_notebook, model_name = model_name, logdir=logdir, prompt_dir=prompt_dir,\n",
    "                     from_checkpoint=None, override_logdir=True, num_gpus=1, batch_size=batch_size)"
   ]
  },
  {
   "cell_type": "markdown",
   "id": "638e58ed-1716-472c-b962-ecad540e61cd",
   "metadata": {},
   "source": [
    "### After downstream task\n",
    "***"
   ]
  },
  {
   "cell_type": "code",
   "execution_count": 173,
   "id": "c592170d-e17a-4900-89d4-3d98abc3f6a9",
   "metadata": {},
   "outputs": [],
   "source": [
    "# get all the best performing model configurations\n",
    "aggs_masked, best_masked = load_classification_task_logs(\"data/models/masked_classification\")"
   ]
  },
  {
   "cell_type": "code",
   "execution_count": null,
   "id": "9c1a2bf7-5d8c-44cc-84b5-d5944dec7016",
   "metadata": {
    "tags": []
   },
   "outputs": [],
   "source": [
    "for k, row in best_masked.iterrows():\n",
    "    if row.model not in causal_models: continue\n",
    "    if row.model != 'EleutherAI/gpt-neo-2.7B': continue\n",
    "    rel_path = f\"/masked_classification/{row.task}/{row.model}/bs{row.batch_size}_lr_{str(float(row.lr)).replace('.','_')}/\"\n",
    "    from_checkpoint = \"data/models\" + rel_path\n",
    "    logdir = \"data/models/prompts\" + rel_path\n",
    "\n",
    "    batch_size = get_batch_size(row.model)\n",
    "\n",
    "    if \"llama\" in model_name:\n",
    "        batch_size = 8\n",
    "\n",
    "    deployer.enqueue(notebook=causal_prompt_notebook, model_name = row.model, logdir=logdir, prompt_dir=prompt_dir,\n",
    "                     from_checkpoint=from_checkpoint, override_logdir=True, num_gpus=1, batch_size=batch_size)"
   ]
  },
  {
   "cell_type": "markdown",
   "id": "559db781-7ba2-4f04-b72e-b2cc4459a52d",
   "metadata": {},
   "source": [
    "## Topic Prompts\n",
    "***"
   ]
  },
  {
   "cell_type": "markdown",
   "id": "b33161c0-72b9-4537-943e-308f08af8ee0",
   "metadata": {},
   "source": [
    "### Deployment\n",
    "***"
   ]
  },
  {
   "cell_type": "code",
   "execution_count": null,
   "id": "4a149c58-80b1-48d9-a06a-881dc7a23da9",
   "metadata": {
    "tags": []
   },
   "outputs": [],
   "source": [
    "# pretrained models\n",
    "for model_name in causal_models + mask_models:\n",
    "    logdir = f\"data/models/prompts_topic/pretrained/{model_name}/\"\n",
    "    batch_size = get_batch_size(model_name)\n",
    "\n",
    "    if \"llama\" in model_name:\n",
    "        batch_size = 8\n",
    "\n",
    "    deployer.enqueue(notebook=causal_prompt_notebook if model_name in causal_models else masked_prompt_notebook, \n",
    "                     model_name = model_name, logdir=logdir, prompt_dir=\"data/prompts/topics/\",\n",
    "                     override_logdir=True, num_gpus=1, batch_size=batch_size)"
   ]
  },
  {
   "cell_type": "code",
   "execution_count": null,
   "id": "c32b9737-e5ca-48e7-a77d-86f5a99df888",
   "metadata": {
    "tags": []
   },
   "outputs": [],
   "source": [
    "# After downstream tasks\n",
    "for k, row in best_masked.iterrows():\n",
    "    #if row.model not in mask_models: continue\n",
    "    #if row.task == \"tweet-eval\": continue\n",
    "    rel_path = f\"/masked_classification/{row.task}/{row.model}/bs{row.batch_size}_lr_{str(float(row.lr)).replace('.','_')}/\"\n",
    "    from_checkpoint = \"data/models\" + rel_path\n",
    "    logdir = \"data/models/prompts_topic/\" + rel_path\n",
    "\n",
    "    batch_size = get_batch_size(row.model)\n",
    "\n",
    "    if \"llama\" in model_name:\n",
    "        batch_size = 8\n",
    "\n",
    "    deployer.enqueue(notebook=causal_prompt_notebook if row.model in causal_models else masked_prompt_notebook, \n",
    "                     model_name = row.model, logdir=logdir, prompt_dir=\"data/prompts/topics/\",\n",
    "                     from_checkpoint=from_checkpoint, override_logdir=True, num_gpus=1, batch_size=batch_size)"
   ]
  },
  {
   "cell_type": "markdown",
   "id": "0bccddbc-a602-4d10-853a-9e7ac539eb2b",
   "metadata": {},
   "source": [
    "### Eval\n",
    "***"
   ]
  },
  {
   "cell_type": "code",
   "execution_count": 1402,
   "id": "6ca3593f-b417-4aba-9006-373e5f8ad653",
   "metadata": {},
   "outputs": [],
   "source": [
    "def mean_topic_acc(g):\n",
    "    topic_prompt_results = {}\n",
    "    for n, c in g.iteritems():\n",
    "        c = c.dropna().astype(\"int32\").reset_index(drop=True)\n",
    "        if len(c) == 0:\n",
    "            topic_prompt_results[n] = np.nan\n",
    "        else:\n",
    "            topic_prompt_results[n] = (topic_prompt_dfs[n][\"original_label\"] == c).mean(skipna=True)\n",
    "\n",
    "    topic_prompt_results = pd.DataFrame.from_records(topic_prompt_results, index=[\"Accuracy\"])\n",
    "    topic_prompt_results.columns = topic_prompt_results.columns.map(lambda x: tuple(x.split(\"_\",1)))\n",
    "    mean_per_topic = topic_prompt_results.groupby(axis=1, level=0).mean()\n",
    "    return mean_per_topic\n",
    "\n",
    "a = load_prompt_results(\"data/models/prompts_topic/\")"
   ]
  },
  {
   "cell_type": "code",
   "execution_count": 1396,
   "id": "9e311919-5869-431e-9679-e5703fa03d4e",
   "metadata": {},
   "outputs": [],
   "source": [
    "groups = a.groupby([\"task\",\"model\"])\n",
    "topic_means = groups.apply(mean_topic_acc).droplevel(2)\n",
    "topic_means.columns = [\"anti\\nbullying\",\"fidelity\",\"anti\\nlgbtq-phobia\",\"anti\\nracism\",\"respecting\\nothers\", \"anti\\nsexism\", \"anti\\nswearing\"]"
   ]
  },
  {
   "cell_type": "code",
   "execution_count": 1424,
   "id": "09f70ac2-2983-4488-8932-ed6a51b19d6c",
   "metadata": {},
   "outputs": [
    {
     "data": {
      "text/plain": [
       "'\\nge = groups.apply(lambda x: (x.mean(axis=1)>0.5).to_frame())\\n\\nge.columns = [\"yo\"]\\nge.groupby([\"task\",\"model\"]).apply(mean_topic_acc)\\n'"
      ]
     },
     "execution_count": 1424,
     "metadata": {},
     "output_type": "execute_result"
    }
   ],
   "source": [
    "'''\n",
    "ge = groups.apply(lambda x: (x.mean(axis=1)>0.5).to_frame())\n",
    "\n",
    "ge.columns = [\"yo\"]\n",
    "ge.groupby([\"task\",\"model\"]).apply(mean_topic_acc)\n",
    "'''"
   ]
  },
  {
   "cell_type": "code",
   "execution_count": 1397,
   "id": "ce9f7558-9786-4e2f-ba98-31c31bad111a",
   "metadata": {
    "tags": []
   },
   "outputs": [],
   "source": [
    "diffs = topic_means.loc[\"tweet-eval\"] - topic_means.loc[\"pretrained\"]\n",
    "abs_diffs = diffs.abs().sum(axis=1).to_frame()\n",
    "abs_diffs[\"size\"] = model_sizes[\"size\"]\n",
    "abs_diffs[\"dataset_size\"] = model_sizes[\"dataset_size\"]\n",
    "abs_diffs[\"ratio\"] = abs_diffs[\"size\"] / abs_diffs[\"dataset_size\"]"
   ]
  },
  {
   "cell_type": "code",
   "execution_count": 1398,
   "id": "f6acf278-8c67-493b-8853-c6260ad509fa",
   "metadata": {},
   "outputs": [
    {
     "data": {
      "text/html": [
       "<div>\n",
       "<style scoped>\n",
       "    .dataframe tbody tr th:only-of-type {\n",
       "        vertical-align: middle;\n",
       "    }\n",
       "\n",
       "    .dataframe tbody tr th {\n",
       "        vertical-align: top;\n",
       "    }\n",
       "\n",
       "    .dataframe thead th {\n",
       "        text-align: right;\n",
       "    }\n",
       "</style>\n",
       "<table border=\"1\" class=\"dataframe\">\n",
       "  <thead>\n",
       "    <tr style=\"text-align: right;\">\n",
       "      <th></th>\n",
       "      <th>anti\\nbullying</th>\n",
       "      <th>fidelity</th>\n",
       "      <th>anti\\nlgbtq-phobia</th>\n",
       "      <th>anti\\nracism</th>\n",
       "      <th>respecting\\nothers</th>\n",
       "      <th>anti\\nsexism</th>\n",
       "      <th>anti\\nswearing</th>\n",
       "    </tr>\n",
       "  </thead>\n",
       "  <tbody>\n",
       "    <tr>\n",
       "      <th>0</th>\n",
       "      <td>-2.131888</td>\n",
       "      <td>-3.357339</td>\n",
       "      <td>-2.689211</td>\n",
       "      <td>-3.851852</td>\n",
       "      <td>-2.460766</td>\n",
       "      <td>-4.341564</td>\n",
       "      <td>-4.886212</td>\n",
       "    </tr>\n",
       "  </tbody>\n",
       "</table>\n",
       "</div>"
      ],
      "text/plain": [
       "   anti\\nbullying  fidelity  anti\\nlgbtq-phobia  anti\\nracism  \\\n",
       "0       -2.131888 -3.357339           -2.689211     -3.851852   \n",
       "\n",
       "   respecting\\nothers  anti\\nsexism  anti\\nswearing  \n",
       "0           -2.460766     -4.341564       -4.886212  "
      ]
     },
     "execution_count": 1398,
     "metadata": {},
     "output_type": "execute_result"
    }
   ],
   "source": [
    "m = topic_means.abs().groupby(\"task\").mean()\n",
    "\n",
    "(m.loc[\"tweet-eval\"] - m.loc[\"pretrained\"]).to_frame().T * 100"
   ]
  },
  {
   "cell_type": "code",
   "execution_count": 1399,
   "id": "0014e060-9c91-4fab-aa8d-954ea0422ebc",
   "metadata": {},
   "outputs": [
    {
     "data": {
      "text/html": [
       "<div>\n",
       "<style scoped>\n",
       "    .dataframe tbody tr th:only-of-type {\n",
       "        vertical-align: middle;\n",
       "    }\n",
       "\n",
       "    .dataframe tbody tr th {\n",
       "        vertical-align: top;\n",
       "    }\n",
       "\n",
       "    .dataframe thead th {\n",
       "        text-align: right;\n",
       "    }\n",
       "</style>\n",
       "<table border=\"1\" class=\"dataframe\">\n",
       "  <thead>\n",
       "    <tr style=\"text-align: right;\">\n",
       "      <th></th>\n",
       "      <th>0</th>\n",
       "      <th>size</th>\n",
       "      <th>dataset_size</th>\n",
       "      <th>ratio</th>\n",
       "    </tr>\n",
       "  </thead>\n",
       "  <tbody>\n",
       "    <tr>\n",
       "      <th>0</th>\n",
       "      <td>1.000000</td>\n",
       "      <td>0.000000</td>\n",
       "      <td>0.072471</td>\n",
       "      <td>-0.007143</td>\n",
       "    </tr>\n",
       "    <tr>\n",
       "      <th>size</th>\n",
       "      <td>0.000000</td>\n",
       "      <td>1.000000</td>\n",
       "      <td>0.556218</td>\n",
       "      <td>0.057143</td>\n",
       "    </tr>\n",
       "    <tr>\n",
       "      <th>dataset_size</th>\n",
       "      <td>0.072471</td>\n",
       "      <td>0.556218</td>\n",
       "      <td>1.000000</td>\n",
       "      <td>-0.770008</td>\n",
       "    </tr>\n",
       "    <tr>\n",
       "      <th>ratio</th>\n",
       "      <td>-0.007143</td>\n",
       "      <td>0.057143</td>\n",
       "      <td>-0.770008</td>\n",
       "      <td>1.000000</td>\n",
       "    </tr>\n",
       "  </tbody>\n",
       "</table>\n",
       "</div>"
      ],
      "text/plain": [
       "                     0      size  dataset_size     ratio\n",
       "0             1.000000  0.000000      0.072471 -0.007143\n",
       "size          0.000000  1.000000      0.556218  0.057143\n",
       "dataset_size  0.072471  0.556218      1.000000 -0.770008\n",
       "ratio        -0.007143  0.057143     -0.770008  1.000000"
      ]
     },
     "execution_count": 1399,
     "metadata": {},
     "output_type": "execute_result"
    }
   ],
   "source": [
    "abs_diffs.corr(\"spearman\")"
   ]
  },
  {
   "cell_type": "code",
   "execution_count": 1400,
   "id": "e6e52ee3-6976-4f88-9b32-e79452021863",
   "metadata": {},
   "outputs": [
    {
     "data": {
      "image/png": "[encoded data removed]",
      "text/plain": [
       "<Figure size 1296x864 with 3 Axes>"
      ]
     },
     "metadata": {},
     "output_type": "display_data"
    }
   ],
   "source": [
    "from radar_plot import radar_factory\n",
    "import seaborn as sb\n",
    "import matplotlib.pyplot as plt\n",
    "\n",
    "plots = [\n",
    "    (\"tweet-eval\",\"gpt2-large\"),\n",
    "    (\"tweet-eval\",\"llama7B\"),\n",
    "#    (\"tweet-eval\",\"bert-base-uncased\"),\n",
    "    (\"tweet-eval\",\"xlm-roberta-base\"),\n",
    "    \n",
    "]\n",
    "\n",
    "sb.set_theme(context=\"talk\", style=\"ticks\")\n",
    "sb.set_palette(\"Set2\")\n",
    "\n",
    "N = 7\n",
    "theta = radar_factory(N, frame='polygon')\n",
    "\n",
    "fig, axes = plt.subplots(figsize=(18, 12), nrows=1, ncols=len(plots), subplot_kw=dict(projection='radar'))\n",
    "\n",
    "\n",
    "for ax, (task,model) in zip(axes, plots):\n",
    "    pt = topic_means.loc[\"pretrained\",model]\n",
    "    tw = topic_means.loc[task,model]\n",
    "\n",
    "    ax.plot(theta, pt, \"--.\", alpha=1, label=\"_nolegend_\", color=\"#006093\", lw=2)\n",
    "    h1 = ax.fill(theta, pt, alpha=0.15, label=\"Pre-trained\", color=\"#006093\")\n",
    "\n",
    "    ax.plot(theta, tw, \"--.\", alpha=1, label=\"_nolegend_\", color=\"black\", lw=2)\n",
    "    h2 = ax.fill(theta, tw, alpha=0.15, label=\"Prompt-tuned\", color=\"black\", lw=2, facecolor=\"black\")\n",
    "\n",
    "    ax.set_rgrids([0.0, 0.2, 0.4, 0.6, 0.8, 1.0], labels=[], angle=25, fontweight=\"bold\")\n",
    "    labels = topic_means.columns\n",
    "    ax.set_thetagrids(np.degrees(theta), labels)\n",
    "\n",
    "    labels = []\n",
    "\n",
    "    for label, angle in zip(ax.get_xticklabels(), np.degrees(theta)):\n",
    "        if 90 < angle < 270:\n",
    "            angle -= 180\n",
    "        x,y = label.get_position()\n",
    "        lab = ax.text(x,y, label.get_text(), transform=label.get_transform(),\n",
    "                      ha=label.get_ha(), va=label.get_va())\n",
    "        lab.set_rotation(angle)\n",
    "        labels.append(lab)\n",
    "\n",
    "    ax.set_xticklabels([])\n",
    "\n",
    "    ax.tick_params(pad=5, grid_color=\"grey\")\n",
    "    ax.set_ylim(0,1)\n",
    "    dn = model.removesuffix(\"-uncased\")\n",
    "    ax.set_title(dn, y=-0.2, size=\"medium\", fontweight=\"bold\")\n",
    "\n",
    "\n",
    "# add legend relative to top-left plot\n",
    "leg = plt.figlegend(handles=h1+h2, loc=\"lower center\", bbox_to_anchor=(0.5,0.15), markerscale=5, ncol=2)\n",
    "l = leg.legendHandles\n",
    "l[0].set_alpha(0.5)\n",
    "l[1].set_alpha(0.5)\n",
    "\n",
    "#fig.text(0.5, 0.78, \"Alignment with norms grouped by topic\", horizontalalignment='center', color='black', weight='bold', size='medium')\n",
    "\n",
    "plt.tight_layout()\n",
    "plt.savefig(\"yo.png\", dpi=300, bbox_inches='tight')\n",
    "plt.show()"
   ]
  },
  {
   "cell_type": "markdown",
   "id": "c2008636-3469-4eee-ae61-5bf71f2eb877",
   "metadata": {
    "tags": []
   },
   "source": [
    "## More epochs\n",
    "***\n",
    "\n"
   ]
  },
  {
   "cell_type": "code",
   "execution_count": null,
   "id": "26507f1a-5151-4ae1-8516-c6dc983d76b1",
   "metadata": {
    "tags": []
   },
   "outputs": [],
   "source": [
    "# train roberta for 20 epochs on tweet eval\n",
    "\n",
    "\n",
    "model_name = \"roberta-base\"\n",
    "dataset = \"contrastive-moral-stories\"\n",
    "batch_size = 64\n",
    "lr = 5e-5\n",
    "\n",
    "\n",
    "logdir = f\"data/models/long_runs/{model_name}/{dataset}/{model_name}/bs{batch_size}_lr_{str(lr).replace('.','_')}/\"\n",
    "max_bs = get_batch_size(model_name)\n",
    "device_bs, num_gpus, grad_acc = get_device_placement(batch_size, max_device_batch_size=max_bs, max_gpus=9)\n",
    "training_args = {\n",
    "    \"num_train_epochs\": 20,\n",
    "    \"save_strategy\": \"epoch\",\n",
    "    \"per_device_train_batch_size\": device_bs,\n",
    "    \"per_device_eval_batch_size\": device_bs,\n",
    "    \"gradient_accumulation_steps\": grad_acc,\n",
    "    \"learning_rate\": lr,\n",
    "    \"do_predict\": True,\n",
    "    \"do_train\":True,\n",
    "    \"do_eval\":True,\n",
    "    \"load_best_model_at_end\": False,\n",
    "    \"save_total_limit\": None,\n",
    "\n",
    "    \n",
    "}\n",
    "\n",
    "deployer.enqueue(notebook=masked_train_notebook, model_name = model_name, logdir=logdir, from_checkpoint=None, dataset=dataset,\n",
    "                 override_logdir=True, num_gpus=num_gpus, training_args=training_args, deepspeed=True)\n"
   ]
  },
  {
   "cell_type": "code",
   "execution_count": null,
   "id": "84d495d9-01ba-4c7e-9408-746e01cf00c5",
   "metadata": {
    "tags": []
   },
   "outputs": [],
   "source": [
    "model_dir = \"data/models/long_runs/roberta-base/contrastive-moral-stories/roberta-base/bs64_lr_5e-05/\"\n",
    "ckpts = glob.glob(model_dir + \"checkpoint*/\")\n",
    "\n",
    "for ckpt in ckpts:\n",
    "\n",
    "    logdir = f\"data/models/prompts_long/all/{dataset}/{model_name}/{ckpt.split('/')[-2]}/\"\n",
    "    deployer.enqueue(notebook=masked_prompt_notebook, model_name = model_name, logdir=logdir, prompt_dir=prompt_dir,\n",
    "                     from_checkpoint=ckpt, override_logdir=True, num_gpus=1, batch_size=128)\n",
    "\n",
    "    logdir_topic = f\"data/models/prompts_long/topic/{dataset}/{model_name}/{ckpt.split('/')[-2]}/\"\n",
    "    deployer.enqueue(notebook=masked_prompt_notebook, model_name = model_name, logdir=logdir_topic, prompt_dir=topic_prompt_dir,\n",
    "                     from_checkpoint=ckpt, override_logdir=True, num_gpus=1, batch_size=128)\n",
    "    "
   ]
  },
  {
   "cell_type": "code",
   "execution_count": 1323,
   "id": "dc29794b-3607-4602-a9a8-f8edafcb40ff",
   "metadata": {},
   "outputs": [],
   "source": [
    "def load_long_prompt_results(results_dir = \"data/models/prompts_long/all/\"):\n",
    "    result_files = glob.glob(results_dir+\"**/prompt_results.jsonl\", recursive=True)\n",
    "\n",
    "    dfs = [pd.read_json(r, orient=\"records\", lines=True, dtype=\"float\") for r in result_files]\n",
    "\n",
    "    index = pd.MultiIndex.from_product([result_files, dfs[0].index])\n",
    "\n",
    "    a = pd.DataFrame(index=index, columns=dfs[0].columns, dtype=\"float32\")\n",
    "\n",
    "    for r, df in zip(result_files, dfs):\n",
    "        try:\n",
    "            a.loc[r, df.columns] = df.values\n",
    "        except:\n",
    "            print(\"YO\")\n",
    "            break\n",
    "\n",
    "    def t(x):\n",
    "        y = x\n",
    "        x = x.removeprefix(results_dir).removesuffix(\"/prompt_results.jsonl\")\n",
    "        try:\n",
    "\n",
    "                task, model, ckpt = x.split(\"/\")\n",
    "        except:\n",
    "            print(y)\n",
    "        return task, model, ckpt\n",
    "\n",
    "    k = a.index.to_series().map(lambda x: t(x[0]) + (x[1],))\n",
    "    pindex = pd.MultiIndex.from_tuples(k, names=[\"task\",\"model\",\"ckpt\",\"y_pred\"])\n",
    "    a = a.set_index(pindex)\n",
    "    return a"
   ]
  },
  {
   "cell_type": "code",
   "execution_count": 1324,
   "id": "a69652a7-c7f5-4d0b-93d1-0c71e728044c",
   "metadata": {},
   "outputs": [],
   "source": [
    "long_all = load_long_prompt_results(\"data/models/prompts_long/all/\")\n",
    "long_topic = load_long_prompt_results(\"data/models/prompts_long/topic/\")"
   ]
  },
  {
   "cell_type": "code",
   "execution_count": 1329,
   "id": "26ef19b5-cd10-4bca-a047-42e1e0e51ac1",
   "metadata": {},
   "outputs": [],
   "source": [
    "# compute balanced accuracy per task/model/prompt\n",
    "from sklearn.metrics import balanced_accuracy_score\n",
    "\n",
    "y_true = prompt_dfs[\"prompt_reverse\"][\"original_label\"]\n",
    "baccs = long_all.groupby([\"task\",\"model\",\"ckpt\"]).apply(lambda g: g.apply(lambda x: np.nan if x.isna().any() else balanced_accuracy_score(y_true, x)))"
   ]
  },
  {
   "cell_type": "code",
   "execution_count": 1335,
   "id": "8a342a65-71dd-4df3-bdb9-68a7487b348c",
   "metadata": {},
   "outputs": [],
   "source": [
    "task = \"contrastive-moral-stories\"\n",
    "b = baccs.loc[task]\n",
    "bacc_statistics = pd.DataFrame(index=b.index)\n",
    "\n",
    "g = b.groupby([\"model\",\"ckpt\"])\n",
    "\n",
    "bacc_statistics[\"mean\"] = g.apply(lambda x: x.mean(axis=1).to_frame())\n",
    "bacc_statistics[\"min\"] = g.apply(lambda x: x.min(axis=1).to_frame())\n",
    "bacc_statistics[\"max\"] = g.apply(lambda x: x.max(axis=1).to_frame())\n",
    "bacc_statistics[\"std\"] = g.apply(lambda x: x.std(axis=1).to_frame())\n",
    "\n",
    "bacc_statistics.columns = pd.MultiIndex.from_product([[\"ms_bacc\"], bacc_statistics.columns])\n",
    "bacc_statistics = bacc_statistics.sort_index(level=1, key=lambda y: [int(x.split(\"-\")[1]) for x in y])"
   ]
  },
  {
   "cell_type": "code",
   "execution_count": 1342,
   "id": "60cca071-110b-4541-850b-5ef22e15a8d6",
   "metadata": {},
   "outputs": [
    {
     "data": {
      "text/plain": [
       "[<matplotlib.lines.Line2D at 0x7fe0af54d0d0>]"
      ]
     },
     "execution_count": 1342,
     "metadata": {},
     "output_type": "execute_result"
    },
    {
     "data": {
      "image/png": "[encoded data removed]",
      "text/plain": [
       "<Figure size 432x288 with 1 Axes>"
      ]
     },
     "metadata": {},
     "output_type": "display_data"
    }
   ],
   "source": [
    "plt.plot(bacc_statistics[\"ms_bacc\",\"mean\"].values)\n",
    "\n",
    "plt.show()"
   ]
  },
  {
   "cell_type": "markdown",
   "id": "3c644fa3-2cd2-4db4-a866-4920d7e53028",
   "metadata": {},
   "source": [
    "## Prompting evaluation"
   ]
  },
  {
   "cell_type": "code",
   "execution_count": 1352,
   "id": "d92221ae-8b80-4bf6-b06a-a684d37eeb7f",
   "metadata": {},
   "outputs": [],
   "source": [
    "pr = load_prompt_results()"
   ]
  },
  {
   "cell_type": "markdown",
   "id": "616d7b94-1f03-447c-841c-0164175495fb",
   "metadata": {},
   "source": [
    "### Ensemble\n",
    "***"
   ]
  },
  {
   "cell_type": "code",
   "execution_count": 1353,
   "id": "03c16662-d23c-4441-a321-200e6f04f270",
   "metadata": {},
   "outputs": [],
   "source": [
    "# Two strategies:\n",
    "# Majority Vote\n",
    "ensemble = pr.groupby([\"task\",\"model\"]).apply(lambda x: (x.mean(axis=1)>0.5).to_frame())"
   ]
  },
  {
   "cell_type": "code",
   "execution_count": 1393,
   "id": "2da9fef9-e492-48a8-a471-125d31044686",
   "metadata": {},
   "outputs": [],
   "source": [
    "y_true = prompt_dfs[\"prompt_reverse\"][\"original_label\"]\n",
    "ensemble_baccs = ensemble.groupby([\"task\",\"model\"]).apply(lambda g: g.apply(lambda x: np.nan if x.isna().any() else balanced_accuracy_score(y_true, x)))\n",
    "ensemble_baccs = ensemble_baccs.loc[pd.MultiIndex.from_product([ensemble_baccs.index.get_level_values(0).unique(), model_order], names=[\"task\",\"model\"])]\n"
   ]
  },
  {
   "cell_type": "code",
   "execution_count": 1394,
   "id": "d18cec60-75c1-48f3-98c2-8403a668c532",
   "metadata": {},
   "outputs": [
    {
     "data": {
      "text/html": [
       "<div>\n",
       "<style scoped>\n",
       "    .dataframe tbody tr th:only-of-type {\n",
       "        vertical-align: middle;\n",
       "    }\n",
       "\n",
       "    .dataframe tbody tr th {\n",
       "        vertical-align: top;\n",
       "    }\n",
       "\n",
       "    .dataframe thead th {\n",
       "        text-align: right;\n",
       "    }\n",
       "</style>\n",
       "<table border=\"1\" class=\"dataframe\">\n",
       "  <thead>\n",
       "    <tr style=\"text-align: right;\">\n",
       "      <th></th>\n",
       "      <th>0</th>\n",
       "    </tr>\n",
       "    <tr>\n",
       "      <th>task</th>\n",
       "      <th></th>\n",
       "    </tr>\n",
       "  </thead>\n",
       "  <tbody>\n",
       "    <tr>\n",
       "      <th>contrastive-moral-stories</th>\n",
       "      <td>67.708559</td>\n",
       "    </tr>\n",
       "    <tr>\n",
       "      <th>moral-stories</th>\n",
       "      <td>82.338635</td>\n",
       "    </tr>\n",
       "    <tr>\n",
       "      <th>pretrained</th>\n",
       "      <td>81.411321</td>\n",
       "    </tr>\n",
       "    <tr>\n",
       "      <th>swag</th>\n",
       "      <td>75.048003</td>\n",
       "    </tr>\n",
       "    <tr>\n",
       "      <th>tweet-eval</th>\n",
       "      <td>77.903074</td>\n",
       "    </tr>\n",
       "  </tbody>\n",
       "</table>\n",
       "</div>"
      ],
      "text/plain": [
       "                                   0\n",
       "task                                \n",
       "contrastive-moral-stories  67.708559\n",
       "moral-stories              82.338635\n",
       "pretrained                 81.411321\n",
       "swag                       75.048003\n",
       "tweet-eval                 77.903074"
      ]
     },
     "execution_count": 1394,
     "metadata": {},
     "output_type": "execute_result"
    }
   ],
   "source": [
    "ensemble_baccs.groupby(\"task\").mean() * 100"
   ]
  },
  {
   "cell_type": "code",
   "execution_count": 1364,
   "id": "e69a053e-04fd-432a-b2eb-5a9cff91a108",
   "metadata": {
    "tags": []
   },
   "outputs": [
    {
     "data": {
      "text/html": [
       "<div>\n",
       "<style scoped>\n",
       "    .dataframe tbody tr th:only-of-type {\n",
       "        vertical-align: middle;\n",
       "    }\n",
       "\n",
       "    .dataframe tbody tr th {\n",
       "        vertical-align: top;\n",
       "    }\n",
       "\n",
       "    .dataframe thead tr th {\n",
       "        text-align: left;\n",
       "    }\n",
       "\n",
       "    .dataframe thead tr:last-of-type th {\n",
       "        text-align: right;\n",
       "    }\n",
       "</style>\n",
       "<table border=\"1\" class=\"dataframe\">\n",
       "  <thead>\n",
       "    <tr>\n",
       "      <th></th>\n",
       "      <th></th>\n",
       "      <th colspan=\"4\" halign=\"left\">ms_bacc</th>\n",
       "    </tr>\n",
       "    <tr>\n",
       "      <th></th>\n",
       "      <th></th>\n",
       "      <th>mean</th>\n",
       "      <th>min</th>\n",
       "      <th>max</th>\n",
       "      <th>std</th>\n",
       "    </tr>\n",
       "    <tr>\n",
       "      <th>task</th>\n",
       "      <th>model</th>\n",
       "      <th></th>\n",
       "      <th></th>\n",
       "      <th></th>\n",
       "      <th></th>\n",
       "    </tr>\n",
       "  </thead>\n",
       "  <tbody>\n",
       "    <tr>\n",
       "      <th rowspan=\"5\" valign=\"top\">contrastive-moral-stories</th>\n",
       "      <th>distilbert-base-uncased</th>\n",
       "      <td>0.563042</td>\n",
       "      <td>0.506894</td>\n",
       "      <td>0.674606</td>\n",
       "      <td>0.062250</td>\n",
       "    </tr>\n",
       "    <tr>\n",
       "      <th>bert-base-uncased</th>\n",
       "      <td>0.581043</td>\n",
       "      <td>0.505088</td>\n",
       "      <td>0.817857</td>\n",
       "      <td>0.098838</td>\n",
       "    </tr>\n",
       "    <tr>\n",
       "      <th>bert-large-uncased</th>\n",
       "      <td>0.739708</td>\n",
       "      <td>0.640105</td>\n",
       "      <td>0.817339</td>\n",
       "      <td>0.057447</td>\n",
       "    </tr>\n",
       "    <tr>\n",
       "      <th>distilroberta-base</th>\n",
       "      <td>0.647143</td>\n",
       "      <td>0.531234</td>\n",
       "      <td>0.840330</td>\n",
       "      <td>0.084291</td>\n",
       "    </tr>\n",
       "    <tr>\n",
       "      <th>roberta-base</th>\n",
       "      <td>0.847745</td>\n",
       "      <td>0.731730</td>\n",
       "      <td>0.924235</td>\n",
       "      <td>0.069438</td>\n",
       "    </tr>\n",
       "    <tr>\n",
       "      <th>...</th>\n",
       "      <th>...</th>\n",
       "      <td>...</td>\n",
       "      <td>...</td>\n",
       "      <td>...</td>\n",
       "      <td>...</td>\n",
       "    </tr>\n",
       "    <tr>\n",
       "      <th rowspan=\"5\" valign=\"top\">tweet-eval</th>\n",
       "      <th>gpt2</th>\n",
       "      <td>0.735744</td>\n",
       "      <td>0.715826</td>\n",
       "      <td>0.776583</td>\n",
       "      <td>0.021357</td>\n",
       "    </tr>\n",
       "    <tr>\n",
       "      <th>gpt2-large</th>\n",
       "      <td>0.705216</td>\n",
       "      <td>0.585720</td>\n",
       "      <td>0.786010</td>\n",
       "      <td>0.065857</td>\n",
       "    </tr>\n",
       "    <tr>\n",
       "      <th>gpt2-xl</th>\n",
       "      <td>0.761678</td>\n",
       "      <td>0.678374</td>\n",
       "      <td>0.834709</td>\n",
       "      <td>0.062171</td>\n",
       "    </tr>\n",
       "    <tr>\n",
       "      <th>EleutherAI/gpt-neo-2.7B</th>\n",
       "      <td>0.775537</td>\n",
       "      <td>0.707073</td>\n",
       "      <td>0.885539</td>\n",
       "      <td>0.074383</td>\n",
       "    </tr>\n",
       "    <tr>\n",
       "      <th>llama7B</th>\n",
       "      <td>0.827850</td>\n",
       "      <td>0.683251</td>\n",
       "      <td>0.929773</td>\n",
       "      <td>0.083644</td>\n",
       "    </tr>\n",
       "  </tbody>\n",
       "</table>\n",
       "<p>75 rows × 4 columns</p>\n",
       "</div>"
      ],
      "text/plain": [
       "                                                    ms_bacc            \\\n",
       "                                                       mean       min   \n",
       "task                      model                                         \n",
       "contrastive-moral-stories distilbert-base-uncased  0.563042  0.506894   \n",
       "                          bert-base-uncased        0.581043  0.505088   \n",
       "                          bert-large-uncased       0.739708  0.640105   \n",
       "                          distilroberta-base       0.647143  0.531234   \n",
       "                          roberta-base             0.847745  0.731730   \n",
       "...                                                     ...       ...   \n",
       "tweet-eval                gpt2                     0.735744  0.715826   \n",
       "                          gpt2-large               0.705216  0.585720   \n",
       "                          gpt2-xl                  0.761678  0.678374   \n",
       "                          EleutherAI/gpt-neo-2.7B  0.775537  0.707073   \n",
       "                          llama7B                  0.827850  0.683251   \n",
       "\n",
       "                                                                       \n",
       "                                                        max       std  \n",
       "task                      model                                        \n",
       "contrastive-moral-stories distilbert-base-uncased  0.674606  0.062250  \n",
       "                          bert-base-uncased        0.817857  0.098838  \n",
       "                          bert-large-uncased       0.817339  0.057447  \n",
       "                          distilroberta-base       0.840330  0.084291  \n",
       "                          roberta-base             0.924235  0.069438  \n",
       "...                                                     ...       ...  \n",
       "tweet-eval                gpt2                     0.776583  0.021357  \n",
       "                          gpt2-large               0.786010  0.065857  \n",
       "                          gpt2-xl                  0.834709  0.062171  \n",
       "                          EleutherAI/gpt-neo-2.7B  0.885539  0.074383  \n",
       "                          llama7B                  0.929773  0.083644  \n",
       "\n",
       "[75 rows x 4 columns]"
      ]
     },
     "execution_count": 1364,
     "metadata": {},
     "output_type": "execute_result"
    }
   ],
   "source": [
    "# compute balanced accuracy per task/model/prompt\n",
    "from sklearn.metrics import balanced_accuracy_score\n",
    "\n",
    "y_true = prompt_dfs[\"prompt_reverse\"][\"original_label\"]\n",
    "baccs = pr.groupby([\"task\",\"model\"]).apply(lambda g: g.apply(lambda x: np.nan if x.isna().any() else balanced_accuracy_score(y_true, x)))\n",
    "\n",
    "bacc_statistics = pd.DataFrame(index=baccs.index)\n",
    "\n",
    "g = baccs.groupby([\"task\",\"model\"])\n",
    "\n",
    "bacc_statistics[\"mean\"] = g.apply(lambda x: x.mean(axis=1).to_frame())\n",
    "bacc_statistics[\"min\"] = g.apply(lambda x: x.min(axis=1).to_frame())\n",
    "bacc_statistics[\"max\"] = g.apply(lambda x: x.max(axis=1).to_frame())\n",
    "bacc_statistics[\"std\"] = g.apply(lambda x: x.std(axis=1).to_frame())\n",
    "\n",
    "bacc_statistics.columns = pd.MultiIndex.from_product([[\"ms_bacc\"], bacc_statistics.columns])\n",
    "\n",
    "bacc_statistics = bacc_statistics.loc[pd.MultiIndex.from_product([bacc_statistics.index.get_level_values(0).unique(), model_order], names=[\"task\",\"model\"])]\n",
    "\n",
    "bacc_statistics"
   ]
  },
  {
   "cell_type": "markdown",
   "id": "dcafae79-6345-4ac2-9cfb-3549f434b1df",
   "metadata": {},
   "source": [
    "### Is prompt sensitivity impacted by learning new tasks?\n",
    "***"
   ]
  },
  {
   "cell_type": "markdown",
   "id": "88941513-536e-4897-9325-a50c14a8d1ce",
   "metadata": {},
   "source": [
    "Approach: Measure sensitivity of prompts before and after downstream task, measure differences.\n",
    "\n",
    "Sensitivity is defined as the differences between highest agreeing prompt and lowest agreeing prompt. \n",
    "This however, does not take into account the _actual_ norms being agreed upon.\n",
    "For example, it could happen that a model achieves 50% agreement on both stages, but on completely opposite norms!\n",
    "\n",
    "We need to account for that!\n",
    "--> Is sensitivity agreement dependent? \n",
    "No! We do not care for the exact state the model is in after downstreaming here, we only ask for it to be in _one_ state!\n",
    "\n",
    "Hence, we compare the sensitivity before and after, and look for changes!\n",
    "\n",
    "\n",
    "Comparing *how much* the agreement changed can be done in two ways:\n",
    "* Compute acc. between pretraining and promptuning prediction on probe benchmark. This would quantify how many times the model changed its mind\n",
    "* Same procedure, but on topics of norms, e.g. racist, sexist or homophobic clusters. Is a model more sexist after hateval?"
   ]
  },
  {
   "cell_type": "markdown",
   "id": "4d2bcbd6-b780-4280-9d7e-4cdc01627cb1",
   "metadata": {},
   "source": [
    "We need a sensitivity matrix!\n",
    "\n",
    "Qustion: Are there two pairs of prompts, that lead to dissimilar answers by the model?"
   ]
  },
  {
   "cell_type": "code",
   "execution_count": 1217,
   "id": "67b6480b-ed89-4c5d-a214-06e48ca25eb9",
   "metadata": {},
   "outputs": [],
   "source": [
    "def pairwise_prompt_sensitivity(df):\n",
    "    # computes the overlap between two prompts!\n",
    "    sens_m = df.corr(lambda x,y: (x==y).mean())\n",
    "    indices = np.triu(np.ones(sens_m.shape),k=1).astype(bool)\n",
    "    \n",
    "    r = sens_m.where(indices).stack().reset_index()\n",
    "    # sensitivity = 1 - overlap\n",
    "    r[0] = 1-r[0]\n",
    "    return r"
   ]
  },
  {
   "cell_type": "code",
   "execution_count": 1218,
   "id": "b77d94aa-2481-495d-a591-feef66f1f480",
   "metadata": {},
   "outputs": [],
   "source": [
    "prompt_sensitivity = pr.groupby([\"task\",\"model\"]).apply(pairwise_prompt_sensitivity)\n",
    "prompt_sensitivity.columns = [\"prompt_1\",\"prompt_2\", \"sensitivity\"]"
   ]
  },
  {
   "cell_type": "code",
   "execution_count": 1219,
   "id": "d69c473f-8753-43ee-858c-0697542559b0",
   "metadata": {},
   "outputs": [],
   "source": [
    "sensitivity_stats = prompt_sensitivity[[\"sensitivity\"]].groupby([\"task\",\"model\"]).agg([\"mean\",\"min\", \"max\",\"std\"])\n",
    "sensitivity_stats = sensitivity_stats.loc[pd.MultiIndex.from_product([sensitivity_stats.index.get_level_values(0).unique(), model_order], names=[\"task\",\"model\"])]\n"
   ]
  },
  {
   "cell_type": "code",
   "execution_count": 1220,
   "id": "9d6df708-1e8c-4188-9999-179e4a96e409",
   "metadata": {},
   "outputs": [],
   "source": [
    "aggs_masked, best_masked = load_classification_task_logs(\"data/models/masked_classification/\")"
   ]
  },
  {
   "cell_type": "code",
   "execution_count": 1221,
   "id": "4293f0d7-334f-43ff-a182-55b4371c290f",
   "metadata": {},
   "outputs": [],
   "source": [
    "diffs = sensitivity_stats.copy()\n",
    "\n",
    "diffs[\"sensitivity_diff\"] = diffs[\"sensitivity\",\"mean\"] - diffs.loc[\"pretrained\",(\"sensitivity\",\"mean\")]\n",
    "diffs[\"sensitivity_pretrain\"] = diffs[\"sensitivity\",\"mean\"].values - diffs[\"sensitivity_diff\"].values\n",
    "\n",
    "for c in bacc_statistics.columns:\n",
    "    diffs[c] = bacc_statistics[c]\n",
    "    \n",
    "diffs[\"test_acc\"] = best_masked[[\"test_accuracy\"]]"
   ]
  },
  {
   "cell_type": "markdown",
   "id": "0444fdbf-ae00-48ce-a8c2-526c2039c61c",
   "metadata": {},
   "source": [
    "#### Do pretrained models have high moral bias?\n",
    "***"
   ]
  },
  {
   "cell_type": "code",
   "execution_count": 1224,
   "id": "dfbdadf9-1fca-49f2-8ddd-28778e0f4e49",
   "metadata": {},
   "outputs": [],
   "source": [
    "def format_std(c1,c2,c3):\n",
    "\n",
    "    def t(x):\n",
    "        m = f\"{(x[c1,c2])*100:.2f}\"\n",
    "        std = f\"{(x[c1,c3])*100:.2f}\"\n",
    "        return f\"{m}\\\\textsubscript{{$\\pm${std}}}\"\n",
    "        return f\"${(x[c1,c2])*100:.2f}_{{\\pm{x[c1,c3]*100:.2f}}}$\"\n",
    "    return t\n",
    "\n",
    "mb = bacc_statistics.loc[\"pretrained\"].apply(format_std(\"ms_bacc\",\"mean\",\"std\"), axis=1).to_frame()\n",
    "mb.columns = pd.MultiIndex.from_tuples([(\"Balanced Accuracy\",\"\")])\n",
    "\n",
    "\n",
    "\n",
    "#mb[\"Prompt Sensitivity\", \"Mean\"] = sensitivity_stats.loc[\"pretrained\"].apply(lambda x: f\"${(x.sensitivity['mean'])*100:.2f}_{{\\pm{x.sensitivity['std']*100:.2f}}}$\", axis=1).to_frame()\n",
    "mb[\"Prompt Sensitivity\", \"Mean\"] = sensitivity_stats.loc[\"pretrained\"].apply(format_std(\"sensitivity\",\"mean\",\"std\"), axis=1)\n",
    "mb[\"Prompt Sensitivity\", \"(min, max)\"] = sensitivity_stats.loc[\"pretrained\"].apply(lambda x: f\"{x.sensitivity['min']*100:.2f}, {x.sensitivity['max']*100:.2f}\", axis=1).to_frame()\n",
    "\n",
    "\n",
    "mb = mb.set_index(mb.index.map(model_display_names.get))\n",
    "\n",
    "#print(mb.style.to_latex(hrules=True))"
   ]
  },
  {
   "cell_type": "markdown",
   "id": "163dda3e-4ae3-4c6b-a652-712b076ed7ac",
   "metadata": {},
   "source": [
    "#### Results after downstream task"
   ]
  },
  {
   "cell_type": "code",
   "execution_count": 1225,
   "id": "63b3c0bb-4883-4f3b-8664-2f28e4fd5e60",
   "metadata": {},
   "outputs": [],
   "source": [
    "probe_results = pd.concat([bacc_statistics, sensitivity_stats],axis=1)"
   ]
  },
  {
   "cell_type": "code",
   "execution_count": 1226,
   "id": "0d9f130e-a361-4194-aff0-8b05c3eec471",
   "metadata": {
    "tags": []
   },
   "outputs": [],
   "source": [
    "diffs = probe_results.copy()\n",
    "\n",
    "for c in datasets:\n",
    "    diffs.loc[c] = diffs.loc[c].values -  diffs.loc[\"pretrained\"].values"
   ]
  },
  {
   "cell_type": "code",
   "execution_count": 1227,
   "id": "fdb06c94-d528-49f8-8563-83db4e57e69d",
   "metadata": {},
   "outputs": [
    {
     "data": {
      "text/plain": [
       "0    0.51222\n",
       "dtype: float64"
      ]
     },
     "execution_count": 1227,
     "metadata": {},
     "output_type": "execute_result"
    }
   ],
   "source": [
    "sensitivity_spread = (sensitivity_stats[\"sensitivity\",\"max\"] - sensitivity_stats[\"sensitivity\",\"min\"]).to_frame()\n",
    "\n",
    "sensitivity_spread.loc[[\"contrastive-moral-stories\",\"swag\",\"tweet-eval\"]].groupby(\"model\").agg(\"max\").mean()"
   ]
  },
  {
   "cell_type": "code",
   "execution_count": 1234,
   "id": "ab3209e1-e9ea-4640-9510-b33f22a7b88b",
   "metadata": {
    "tags": []
   },
   "outputs": [],
   "source": [
    "def format_std2(c1,c2,c3):\n",
    "\n",
    "    def t(x):\n",
    "        m = f\"{(x[c1,c2])*100:.1f}\"\n",
    "        std = f\"{(x[c1,c3])*100:.0f}\"\n",
    "        return f\"{m}\\\\textsubscript{{$\\pm${std}}}\"\n",
    "    return t\n",
    "\n",
    "pr_datasets = probe_results.drop(\"pretrained\")\n",
    "pr_styled = pr_datasets.apply(format_std2(\"ms_bacc\",\"mean\",\"std\"), axis=1).to_frame()\n",
    "pr_styled.columns = pd.MultiIndex.from_tuples([(\"Balanced Accuracy\",\"\")])\n",
    "\n",
    "pr_styled[\"Prompt Sensitivity\", \"Mean\"] = pr_datasets.apply(format_std2(\"sensitivity\",\"mean\",\"std\"), axis=1)\n",
    "pr_styled[\"Prompt Sensitivity\", \"(min, max)\"] = pr_datasets.apply(lambda x: f\"{x.sensitivity['min']*100:.1f}, {x.sensitivity['max']*100:.1f}\", axis=1).to_frame()\n",
    "\n",
    "reformed = pd.concat([pr_styled.loc[x] for x in datasets], axis=1, keys=datasets)\n",
    "\n",
    "reformed = reformed.set_index(reformed.index.map(model_display_names.get))\n",
    "\n",
    "#print(reformed.style.to_latex())"
   ]
  },
  {
   "cell_type": "code",
   "execution_count": 1232,
   "id": "03381817-a394-499b-8398-e45c748c45f9",
   "metadata": {},
   "outputs": [
    {
     "name": "stdout",
     "output_type": "stream",
     "text": [
      "\\begin{tabular}{lllllllllllll}\n",
      " & \\multicolumn{3}{r}{moral-stories} & \\multicolumn{3}{r}{contrastive-moral-stories} & \\multicolumn{3}{r}{tweet-eval} & \\multicolumn{3}{r}{swag} \\\\\n",
      " & bacc & mean & min,max & bacc & mean & min,max & bacc & mean & min,max & bacc & mean & min,max \\\\\n",
      "0 & 79.6\\textsubscript{$\\pm$7} & 16.8\\textsubscript{$\\pm$7} & 5.21, 29.50 & 64.7\\textsubscript{$\\pm$9} & 27.2\\textsubscript{$\\pm$12} & 6.95, 49.32 & 73.9\\textsubscript{$\\pm$6} & 21.8\\textsubscript{$\\pm$9} & 7.76, 39.60 & 70.5\\textsubscript{$\\pm$7} & 25.2\\textsubscript{$\\pm$10} & 6.98, 46.12 \\\\\n",
      "\\end{tabular}\n",
      "\n"
     ]
    }
   ],
   "source": [
    "# means for the big table\n",
    "\n",
    "a = probe_results.copy()\n",
    "a = a.drop([(\"ms_bacc\",\"min\"),(\"ms_bacc\",\"max\")], axis=1)\n",
    "\n",
    "k =  datasets#probe_results.index.get_level_values(0).unique()\n",
    "b = (pd.concat([a.loc[x] for x in k], axis=1, keys=k).mean(axis=0).to_frame().T)\n",
    "c = pd.DataFrame(columns=pd.MultiIndex.from_product([datasets,[\"bacc\",\"mean\",\"min,max\"]]))\n",
    "\n",
    "for i in datasets:\n",
    "    c[i,\"bacc\"] = b[i].apply(format_std2(\"ms_bacc\",\"mean\",\"std\"), axis=1)\n",
    "    c[i,\"mean\"] = b[i].apply(format_std2(\"sensitivity\",\"mean\",\"std\"), axis=1)\n",
    "    c[i, \"min,max\"] = b[i].apply(lambda x: f\"{x.sensitivity['min']*100:.2f}, {x.sensitivity['max']*100:.2f}\", axis=1)\n",
    "print(c.style.to_latex())"
   ]
  },
  {
   "cell_type": "code",
   "execution_count": 1233,
   "id": "b16264f8-f5d3-4a73-94e2-57d44f8b024b",
   "metadata": {},
   "outputs": [
    {
     "name": "stdout",
     "output_type": "stream",
     "text": [
      "0    76.77\\textsubscript{$\\pm$7.22}\n",
      "dtype: object\n",
      "0    20.60\\textsubscript{$\\pm$9.20}\n",
      "dtype: object\n",
      "0    6.37, 39.66\n",
      "dtype: object\n"
     ]
    },
    {
     "data": {
      "text/html": [
       "<style type=\"text/css\">\n",
       "</style>\n",
       "<table id=\"T_0abf2\">\n",
       "  <thead>\n",
       "    <tr>\n",
       "      <th class=\"blank level0\" >&nbsp;</th>\n",
       "      <th id=\"T_0abf2_level0_col0\" class=\"col_heading level0 col0\" colspan=\"6\">moral-stories</th>\n",
       "      <th id=\"T_0abf2_level0_col6\" class=\"col_heading level0 col6\" colspan=\"6\">contrastive-moral-stories</th>\n",
       "      <th id=\"T_0abf2_level0_col12\" class=\"col_heading level0 col12\" colspan=\"6\">tweet-eval</th>\n",
       "      <th id=\"T_0abf2_level0_col18\" class=\"col_heading level0 col18\" colspan=\"6\">swag</th>\n",
       "    </tr>\n",
       "    <tr>\n",
       "      <th class=\"blank level1\" >&nbsp;</th>\n",
       "      <th id=\"T_0abf2_level1_col0\" class=\"col_heading level1 col0\" colspan=\"2\">ms_bacc</th>\n",
       "      <th id=\"T_0abf2_level1_col2\" class=\"col_heading level1 col2\" colspan=\"4\">sensitivity</th>\n",
       "      <th id=\"T_0abf2_level1_col6\" class=\"col_heading level1 col6\" colspan=\"2\">ms_bacc</th>\n",
       "      <th id=\"T_0abf2_level1_col8\" class=\"col_heading level1 col8\" colspan=\"4\">sensitivity</th>\n",
       "      <th id=\"T_0abf2_level1_col12\" class=\"col_heading level1 col12\" colspan=\"2\">ms_bacc</th>\n",
       "      <th id=\"T_0abf2_level1_col14\" class=\"col_heading level1 col14\" colspan=\"4\">sensitivity</th>\n",
       "      <th id=\"T_0abf2_level1_col18\" class=\"col_heading level1 col18\" colspan=\"2\">ms_bacc</th>\n",
       "      <th id=\"T_0abf2_level1_col20\" class=\"col_heading level1 col20\" colspan=\"4\">sensitivity</th>\n",
       "    </tr>\n",
       "    <tr>\n",
       "      <th class=\"blank level2\" >&nbsp;</th>\n",
       "      <th id=\"T_0abf2_level2_col0\" class=\"col_heading level2 col0\" >mean</th>\n",
       "      <th id=\"T_0abf2_level2_col1\" class=\"col_heading level2 col1\" >std</th>\n",
       "      <th id=\"T_0abf2_level2_col2\" class=\"col_heading level2 col2\" >mean</th>\n",
       "      <th id=\"T_0abf2_level2_col3\" class=\"col_heading level2 col3\" >min</th>\n",
       "      <th id=\"T_0abf2_level2_col4\" class=\"col_heading level2 col4\" >max</th>\n",
       "      <th id=\"T_0abf2_level2_col5\" class=\"col_heading level2 col5\" >std</th>\n",
       "      <th id=\"T_0abf2_level2_col6\" class=\"col_heading level2 col6\" >mean</th>\n",
       "      <th id=\"T_0abf2_level2_col7\" class=\"col_heading level2 col7\" >std</th>\n",
       "      <th id=\"T_0abf2_level2_col8\" class=\"col_heading level2 col8\" >mean</th>\n",
       "      <th id=\"T_0abf2_level2_col9\" class=\"col_heading level2 col9\" >min</th>\n",
       "      <th id=\"T_0abf2_level2_col10\" class=\"col_heading level2 col10\" >max</th>\n",
       "      <th id=\"T_0abf2_level2_col11\" class=\"col_heading level2 col11\" >std</th>\n",
       "      <th id=\"T_0abf2_level2_col12\" class=\"col_heading level2 col12\" >mean</th>\n",
       "      <th id=\"T_0abf2_level2_col13\" class=\"col_heading level2 col13\" >std</th>\n",
       "      <th id=\"T_0abf2_level2_col14\" class=\"col_heading level2 col14\" >mean</th>\n",
       "      <th id=\"T_0abf2_level2_col15\" class=\"col_heading level2 col15\" >min</th>\n",
       "      <th id=\"T_0abf2_level2_col16\" class=\"col_heading level2 col16\" >max</th>\n",
       "      <th id=\"T_0abf2_level2_col17\" class=\"col_heading level2 col17\" >std</th>\n",
       "      <th id=\"T_0abf2_level2_col18\" class=\"col_heading level2 col18\" >mean</th>\n",
       "      <th id=\"T_0abf2_level2_col19\" class=\"col_heading level2 col19\" >std</th>\n",
       "      <th id=\"T_0abf2_level2_col20\" class=\"col_heading level2 col20\" >mean</th>\n",
       "      <th id=\"T_0abf2_level2_col21\" class=\"col_heading level2 col21\" >min</th>\n",
       "      <th id=\"T_0abf2_level2_col22\" class=\"col_heading level2 col22\" >max</th>\n",
       "      <th id=\"T_0abf2_level2_col23\" class=\"col_heading level2 col23\" >std</th>\n",
       "    </tr>\n",
       "  </thead>\n",
       "  <tbody>\n",
       "    <tr>\n",
       "      <th id=\"T_0abf2_level0_row0\" class=\"row_heading level0 row0\" >0</th>\n",
       "      <td id=\"T_0abf2_row0_col0\" class=\"data row0 col0\" >2.80</td>\n",
       "      <td id=\"T_0abf2_row0_col1\" class=\"data row0 col1\" >-0.34</td>\n",
       "      <td id=\"T_0abf2_row0_col2\" class=\"data row0 col2\" >-3.82</td>\n",
       "      <td id=\"T_0abf2_row0_col3\" class=\"data row0 col3\" >-1.16</td>\n",
       "      <td id=\"T_0abf2_row0_col4\" class=\"data row0 col4\" >-10.16</td>\n",
       "      <td id=\"T_0abf2_row0_col5\" class=\"data row0 col5\" >-2.47</td>\n",
       "      <td id=\"T_0abf2_row0_col6\" class=\"data row0 col6\" >-12.12</td>\n",
       "      <td id=\"T_0abf2_row0_col7\" class=\"data row0 col7\" >2.15</td>\n",
       "      <td id=\"T_0abf2_row0_col8\" class=\"data row0 col8\" >6.63</td>\n",
       "      <td id=\"T_0abf2_row0_col9\" class=\"data row0 col9\" >0.59</td>\n",
       "      <td id=\"T_0abf2_row0_col10\" class=\"data row0 col10\" >9.67</td>\n",
       "      <td id=\"T_0abf2_row0_col11\" class=\"data row0 col11\" >3.11</td>\n",
       "      <td id=\"T_0abf2_row0_col12\" class=\"data row0 col12\" >-2.85</td>\n",
       "      <td id=\"T_0abf2_row0_col13\" class=\"data row0 col13\" >-0.74</td>\n",
       "      <td id=\"T_0abf2_row0_col14\" class=\"data row0 col14\" >1.21</td>\n",
       "      <td id=\"T_0abf2_row0_col15\" class=\"data row0 col15\" >1.40</td>\n",
       "      <td id=\"T_0abf2_row0_col16\" class=\"data row0 col16\" >-0.05</td>\n",
       "      <td id=\"T_0abf2_row0_col17\" class=\"data row0 col17\" >-0.51</td>\n",
       "      <td id=\"T_0abf2_row0_col18\" class=\"data row0 col18\" >-6.25</td>\n",
       "      <td id=\"T_0abf2_row0_col19\" class=\"data row0 col19\" >0.22</td>\n",
       "      <td id=\"T_0abf2_row0_col20\" class=\"data row0 col20\" >4.57</td>\n",
       "      <td id=\"T_0abf2_row0_col21\" class=\"data row0 col21\" >0.62</td>\n",
       "      <td id=\"T_0abf2_row0_col22\" class=\"data row0 col22\" >6.47</td>\n",
       "      <td id=\"T_0abf2_row0_col23\" class=\"data row0 col23\" >1.28</td>\n",
       "    </tr>\n",
       "  </tbody>\n",
       "</table>\n"
      ],
      "text/plain": [
       "<pandas.io.formats.style.Styler at 0x7fdf44c597f0>"
      ]
     },
     "execution_count": 1233,
     "metadata": {},
     "output_type": "execute_result"
    }
   ],
   "source": [
    "# means for the small table - pretrained only\n",
    "\n",
    "a2 = probe_results.loc[\"pretrained\"].copy()\n",
    "a2 = a2.drop([(\"ms_bacc\",\"min\"),(\"ms_bacc\",\"max\")], axis=1)\n",
    "b2 = a2.mean(axis=0).to_frame().T\n",
    "print(b2.apply(format_std(\"ms_bacc\",\"mean\",\"std\"), axis=1))\n",
    "print(b2.apply(format_std(\"sensitivity\",\"mean\",\"std\"), axis=1))\n",
    "print(b2.apply(lambda x: f\"{x.sensitivity['min']*100:.2f}, {x.sensitivity['max']*100:.2f}\", axis=1))\n",
    "\n",
    "(b - pd.concat([b2]*4, axis=1).values).applymap(lambda x: f\"{x*100:.2f}\").style"
   ]
  }
 ],
 "metadata": {
  "kernelspec": {
   "display_name": "env",
   "language": "python",
   "name": "env"
  },
  "language_info": {
   "codemirror_mode": {
    "name": "ipython",
    "version": 3
   },
   "file_extension": ".py",
   "mimetype": "text/x-python",
   "name": "python",
   "nbconvert_exporter": "python",
   "pygments_lexer": "ipython3",
   "version": "3.9.16"
  },
  "toc-autonumbering": true,
  "toc-showcode": false,
  "toc-showmarkdowntxt": true,
  "toc-showtags": false
 },
 "nbformat": 4,
 "nbformat_minor": 5
}
