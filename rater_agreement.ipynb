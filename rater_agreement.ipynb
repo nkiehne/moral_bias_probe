{
 "cells": [
  {
   "cell_type": "code",
   "execution_count": 4,
   "id": "6099e59b-e2d5-4fb0-a202-7b2e95f73bd9",
   "metadata": {},
   "outputs": [],
   "source": [
    "import krippendorff\n",
    "import numpy as np\n",
    "import pandas as pd\n",
    "\n",
    "ratings = pd.read_csv(\"data/prompts/human-eval/ratings.csv\",sep=\";\", header=None)"
   ]
  },
  {
   "cell_type": "code",
   "execution_count": 10,
   "id": "896b6c6c-960b-45c2-8cb9-30ecc52c6e8b",
   "metadata": {},
   "outputs": [
    {
     "name": "stdout",
     "output_type": "stream",
     "text": [
      "All raters agree in 96.78% of their ratings\n"
     ]
    }
   ],
   "source": [
    "all_agree = ratings.apply(lambda x: len(set([x[2],x[3],x[4]])) == 1, axis=1)\n",
    "print(f\"All raters agree in {all_agree.mean()*100:.2f}% of their ratings\")"
   ]
  },
  {
   "cell_type": "code",
   "execution_count": 15,
   "id": "73a9d2c0-44c2-4823-964f-921ac6405a2b",
   "metadata": {},
   "outputs": [
    {
     "data": {
      "text/plain": [
       "0.7276384147763059"
      ]
     },
     "execution_count": 15,
     "metadata": {},
     "output_type": "execute_result"
    }
   ],
   "source": [
    "krippendorff.alpha(ratings[[2,3,4]].T)"
   ]
  },
  {
   "cell_type": "code",
   "execution_count": 21,
   "id": "5f95b200-2166-4899-8ab7-e9082236986c",
   "metadata": {},
   "outputs": [
    {
     "data": {
      "text/plain": [
       "0.9533333333333334"
      ]
     },
     "execution_count": 21,
     "metadata": {},
     "output_type": "execute_result"
    }
   ],
   "source": [
    "1 - (ratings[[2,3,4]].sum(axis=1) < 2).sum() / len(ratings)"
   ]
  },
  {
   "cell_type": "code",
   "execution_count": 27,
   "id": "4b2e7c08-ea64-4ccb-af6f-ccd147e78519",
   "metadata": {},
   "outputs": [],
   "source": [
    "from statsmodels.stats.inter_rater import fleiss_kappa, aggregate_raters"
   ]
  },
  {
   "cell_type": "code",
   "execution_count": 29,
   "id": "2f985ac6-b014-4e61-a6b4-1251f9642504",
   "metadata": {},
   "outputs": [],
   "source": [
    "a,b = aggregate_raters(ratings[[2,3,4]])"
   ]
  },
  {
   "cell_type": "code",
   "execution_count": 30,
   "id": "5fa19102-ce18-4454-ac6d-0802ae749413",
   "metadata": {},
   "outputs": [
    {
     "data": {
      "text/plain": [
       "0.7275375027402831"
      ]
     },
     "execution_count": 30,
     "metadata": {},
     "output_type": "execute_result"
    }
   ],
   "source": [
    "fleiss_kappa(a)"
   ]
  },
  {
   "cell_type": "code",
   "execution_count": null,
   "id": "dcf959cc-07c0-4679-90aa-663fe2ba90d4",
   "metadata": {},
   "outputs": [],
   "source": []
  }
 ],
 "metadata": {
  "kernelspec": {
   "display_name": "Python 3 (ipykernel)",
   "language": "python",
   "name": "python3"
  },
  "language_info": {
   "codemirror_mode": {
    "name": "ipython",
    "version": 3
   },
   "file_extension": ".py",
   "mimetype": "text/x-python",
   "name": "python",
   "nbconvert_exporter": "python",
   "pygments_lexer": "ipython3",
   "version": "3.9.16"
  }
 },
 "nbformat": 4,
 "nbformat_minor": 5
}
